{
 "cells": [
  {
   "cell_type": "code",
   "execution_count": null,
   "metadata": {
    "scrolled": true
   },
   "outputs": [
    {
     "name": "stdout",
     "output_type": "stream",
     "text": [
      "WARNING:tensorflow:No training configuration found in the save file, so the model was *not* compiled. Compile it manually.\n"
     ]
    }
   ],
   "source": [
    "import cv2\n",
    "import dlib\n",
    "import tensorflow.keras\n",
    "from PIL import Image, ImageOps\n",
    "import numpy as np\n",
    "\n",
    "np.set_printoptions(suppress=True)\n",
    "model = tensorflow.keras.models.load_model(\"keras_model.h5\")\n",
    "data = np.ndarray(shape=(1, 224, 224, 3), dtype=np.float32)\n",
    "size = (224, 224)\n",
    "video = cv2.VideoCapture(\"VID_20210605_185725.mp4\")\n",
    "detector = dlib.get_frontal_face_detector()\n",
    "\n",
    "while video.isOpened():\n",
    "    \n",
    "    ret, frame = video.read()\n",
    "    \n",
    "    try:\n",
    "        frame = cv2.resize(frame, (500, 700))\n",
    "    except:\n",
    "        continue\n",
    "    \n",
    "    if ret:\n",
    "    \n",
    "        gray = cv2.cvtColor(frame, cv2.COLOR_BGR2GRAY)\n",
    "\n",
    "        faces = detector(gray)\n",
    "\n",
    "        if len(faces) != 0:\n",
    "\n",
    "            for face in faces:\n",
    "                x1 = face.left()\n",
    "                y1 = face.top()\n",
    "                x2 = face.right()\n",
    "                y2 = face.bottom()\n",
    "\n",
    "                \n",
    "                try:\n",
    "                    img = cv2.resize(frame[y1:y2, x1:x2], size)\n",
    "                except:\n",
    "                    continue\n",
    "                    \n",
    "                prediction = model.predict(np.asarray([img]))\n",
    "\n",
    "\n",
    "                if np.argmax(prediction) == 0:\n",
    "                    cv2.rectangle(frame, (x1, y1), (x2, y2), (0, 255, 0), 2)\n",
    "                else:\n",
    "                    cv2.rectangle(frame, (x1, y1), (x2, y2), (0, 0, 255), 2)\n",
    "\n",
    "        cv2.imshow(\"frame\",frame)\n",
    "    \n",
    "        if cv2.waitKey(1) == ord('q'):\n",
    "            break\n",
    "        \n",
    "cv2.destroyAllWindows()\n",
    "video.release()"
   ]
  }
 ],
 "metadata": {
  "kernelspec": {
   "display_name": "Python 3",
   "language": "python",
   "name": "python3"
  },
  "language_info": {
   "codemirror_mode": {
    "name": "ipython",
    "version": 3
   },
   "file_extension": ".py",
   "mimetype": "text/x-python",
   "name": "python",
   "nbconvert_exporter": "python",
   "pygments_lexer": "ipython3",
   "version": "3.6.6"
  }
 },
 "nbformat": 4,
 "nbformat_minor": 4
}
