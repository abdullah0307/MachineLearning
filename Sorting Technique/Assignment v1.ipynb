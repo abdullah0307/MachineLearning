{
 "cells": [
  {
   "cell_type": "code",
   "execution_count": 1,
   "metadata": {},
   "outputs": [],
   "source": [
    "import pandas as pd\n",
    "import random\n",
    "import time"
   ]
  },
  {
   "cell_type": "markdown",
   "metadata": {},
   "source": [
    "# Part 1: Merge Sort algorithm"
   ]
  },
  {
   "cell_type": "code",
   "execution_count": 4,
   "metadata": {},
   "outputs": [],
   "source": [
    "def merge_array(array, l, m, r):\n",
    "    n_1 = m - l + 1\n",
    "    n_2 = r - m\n",
    "    \n",
    "    Left = [0] * (n_1)\n",
    "    Right = [0] * (n_2)\n",
    "    \n",
    "    for i in range(0, n_1):\n",
    "        Left[i] = array[l + i]\n",
    "        \n",
    "    for j in range(0, n_2):\n",
    "        Right[j] = array[m + 1 + j]\n",
    "    \n",
    "    i = 0\n",
    "    j = 0\n",
    "    k = l\n",
    "    \n",
    "    while i < n_1 and j < n_2:\n",
    "        if Left[i] <= Right[j]:\n",
    "            array[k] = Left[i]\n",
    "            i += 1\n",
    "        else:\n",
    "            array[k] = Right[j]\n",
    "            j += 1\n",
    "        k += 1\n",
    "            \n",
    "    while i < n_1:\n",
    "        array[k] = Left[i]\n",
    "        i += 1\n",
    "        k += 1\n",
    "        \n",
    "    while j < n_2:\n",
    "        array[k] = Right[j]\n",
    "        j += 1\n",
    "        k += 1\n",
    "        \n",
    "def mergeSort(array, l, r):\n",
    "    if l < r:\n",
    "        m = l+(r-l)//2\n",
    "        \n",
    "        mergeSort(array, l, m)\n",
    "        mergeSort(array, m+1, r)\n",
    "        merge_array(array, l, m, r)\n",
    "        \n",
    "    return array"
   ]
  },
  {
   "cell_type": "code",
   "execution_count": 6,
   "metadata": {},
   "outputs": [
    {
     "name": "stdout",
     "output_type": "stream",
     "text": [
      "Input array\n",
      "10 11 1 5 6 7 \n",
      "\n",
      "Output array\n",
      "1 5 6 7 10 11 "
     ]
    }
   ],
   "source": [
    "arr = [10, 11, 1, 5, 6, 7]\n",
    "\n",
    "n = len(arr)\n",
    "print(\"Input array\")\n",
    "for i in range(n):\n",
    "    print(\"%d\" % arr[i],end=\" \")\n",
    "\n",
    "mergeSort(arr, 0, n-1)\n",
    "print(\"\\n\\nOutput array\")\n",
    "for i in range(n):\n",
    "    print(\"%d\" % arr[i],end=\" \")"
   ]
  },
  {
   "cell_type": "markdown",
   "metadata": {},
   "source": [
    "# Part 2: Compile a table of average cases run times for Insertion Sort"
   ]
  },
  {
   "cell_type": "code",
   "execution_count": 4,
   "metadata": {},
   "outputs": [
    {
     "data": {
      "text/html": [
       "<div>\n",
       "<style scoped>\n",
       "    .dataframe tbody tr th:only-of-type {\n",
       "        vertical-align: middle;\n",
       "    }\n",
       "\n",
       "    .dataframe tbody tr th {\n",
       "        vertical-align: top;\n",
       "    }\n",
       "\n",
       "    .dataframe thead th {\n",
       "        text-align: right;\n",
       "    }\n",
       "</style>\n",
       "<table border=\"1\" class=\"dataframe\">\n",
       "  <thead>\n",
       "    <tr style=\"text-align: right;\">\n",
       "      <th></th>\n",
       "      <th>No of Elements</th>\n",
       "      <th>Average Sorting time taken</th>\n",
       "    </tr>\n",
       "  </thead>\n",
       "  <tbody>\n",
       "    <tr>\n",
       "      <th>0</th>\n",
       "      <td>10</td>\n",
       "      <td>0.000000</td>\n",
       "    </tr>\n",
       "    <tr>\n",
       "      <th>1</th>\n",
       "      <td>20</td>\n",
       "      <td>0.000000</td>\n",
       "    </tr>\n",
       "    <tr>\n",
       "      <th>2</th>\n",
       "      <td>50</td>\n",
       "      <td>0.000000</td>\n",
       "    </tr>\n",
       "    <tr>\n",
       "      <th>3</th>\n",
       "      <td>100</td>\n",
       "      <td>0.000665</td>\n",
       "    </tr>\n",
       "    <tr>\n",
       "      <th>4</th>\n",
       "      <td>200</td>\n",
       "      <td>0.003658</td>\n",
       "    </tr>\n",
       "  </tbody>\n",
       "</table>\n",
       "</div>"
      ],
      "text/plain": [
       "   No of Elements  Average Sorting time taken\n",
       "0              10                    0.000000\n",
       "1              20                    0.000000\n",
       "2              50                    0.000000\n",
       "3             100                    0.000665\n",
       "4             200                    0.003658"
      ]
     },
     "execution_count": 4,
     "metadata": {},
     "output_type": "execute_result"
    }
   ],
   "source": [
    "def Insertion_sort(array):\n",
    "    for i in range(1, len(array)):\n",
    "        key = array[i]\n",
    "        j = i-1\n",
    "        \n",
    "        while j >=0 and key < array[j]:\n",
    "            array[j+1] = array[j]\n",
    "            j -= 1\n",
    "\n",
    "        array[j+1] = key\n",
    "\n",
    "    return array\n",
    "\n",
    "Numbers = []\n",
    "Average_time = []\n",
    "\n",
    "for n in [10, 20, 50, 100, 200]:\n",
    "    time_taken = []\n",
    "\n",
    "    for experiment in range(3):\n",
    "        array = [random.randint(0, n) for _ in range(n)]\n",
    "        t1 = time.time()\n",
    "        sorted_array = Insertion_sort(array)\n",
    "        t2 = time.time()\n",
    "        time_taken.append(t2 - t1)\n",
    "\n",
    "    Numbers.append(n)\n",
    "    Average_time.append(sum(time_taken) / len(time_taken))\n",
    "\n",
    "Insertion_df = pd.DataFrame()\n",
    "Insertion_df['No of Elements'] = Numbers\n",
    "Insertion_df['Average Sorting time taken'] = Average_time\n",
    "Insertion_df"
   ]
  },
  {
   "cell_type": "markdown",
   "metadata": {},
   "source": [
    "# Part 3: Compile a table of average cases run times for Merge Sort"
   ]
  },
  {
   "cell_type": "code",
   "execution_count": 5,
   "metadata": {},
   "outputs": [
    {
     "data": {
      "text/html": [
       "<div>\n",
       "<style scoped>\n",
       "    .dataframe tbody tr th:only-of-type {\n",
       "        vertical-align: middle;\n",
       "    }\n",
       "\n",
       "    .dataframe tbody tr th {\n",
       "        vertical-align: top;\n",
       "    }\n",
       "\n",
       "    .dataframe thead th {\n",
       "        text-align: right;\n",
       "    }\n",
       "</style>\n",
       "<table border=\"1\" class=\"dataframe\">\n",
       "  <thead>\n",
       "    <tr style=\"text-align: right;\">\n",
       "      <th></th>\n",
       "      <th>No of Elements</th>\n",
       "      <th>Average Sorting time taken</th>\n",
       "    </tr>\n",
       "  </thead>\n",
       "  <tbody>\n",
       "    <tr>\n",
       "      <th>0</th>\n",
       "      <td>10</td>\n",
       "      <td>0.000000</td>\n",
       "    </tr>\n",
       "    <tr>\n",
       "      <th>1</th>\n",
       "      <td>20</td>\n",
       "      <td>0.000000</td>\n",
       "    </tr>\n",
       "    <tr>\n",
       "      <th>2</th>\n",
       "      <td>50</td>\n",
       "      <td>0.000332</td>\n",
       "    </tr>\n",
       "    <tr>\n",
       "      <th>3</th>\n",
       "      <td>100</td>\n",
       "      <td>0.000332</td>\n",
       "    </tr>\n",
       "    <tr>\n",
       "      <th>4</th>\n",
       "      <td>200</td>\n",
       "      <td>0.000997</td>\n",
       "    </tr>\n",
       "  </tbody>\n",
       "</table>\n",
       "</div>"
      ],
      "text/plain": [
       "   No of Elements  Average Sorting time taken\n",
       "0              10                    0.000000\n",
       "1              20                    0.000000\n",
       "2              50                    0.000332\n",
       "3             100                    0.000332\n",
       "4             200                    0.000997"
      ]
     },
     "execution_count": 5,
     "metadata": {},
     "output_type": "execute_result"
    }
   ],
   "source": [
    "Numbers = []\n",
    "Average_time = []\n",
    "for n in [10, 20, 50, 100, 200]:\n",
    "    time_taken = []\n",
    "\n",
    "    for experiment in range(3):\n",
    "        array = [random.randint(0, n) for _ in range(n)]\n",
    "        t1 = time.time()\n",
    "        sorted_array = mergeSort(array, 0, len(array)-1)\n",
    "        t2 = time.time()\n",
    "        time_taken.append(t2 - t1)\n",
    "\n",
    "    Numbers.append(n)\n",
    "    Average_time.append(sum(time_taken) / len(time_taken))\n",
    "\n",
    "Merge_df = pd.DataFrame()\n",
    "Merge_df['No of Elements'] = Numbers\n",
    "Merge_df['Average Sorting time taken'] = Average_time\n",
    "Merge_df"
   ]
  },
  {
   "cell_type": "markdown",
   "metadata": {},
   "source": [
    "# Part 4: Create a graph comparing the average cases run times of Insertion Sort and Merge Sort.\n"
   ]
  },
  {
   "cell_type": "code",
   "execution_count": 6,
   "metadata": {},
   "outputs": [
    {
     "data": {
      "text/plain": [
       "<matplotlib.axes._subplots.AxesSubplot at 0x18ffef748c8>"
      ]
     },
     "execution_count": 6,
     "metadata": {},
     "output_type": "execute_result"
    },
    {
     "data": {
      "image/png": "[encoded data removed]",
      "text/plain": [
       "<Figure size 432x288 with 1 Axes>"
      ]
     },
     "metadata": {
      "needs_background": "light"
     },
     "output_type": "display_data"
    }
   ],
   "source": [
    "Combined_df = pd.DataFrame()\n",
    "Combined_df['No of Elements'] = Merge_df['No of Elements']\n",
    "Combined_df['Insertion sort time'] = Insertion_df['Average Sorting time taken']\n",
    "Combined_df['Merge sort time'] = Merge_df['Average Sorting time taken']\n",
    "Combined_df.set_index('No of Elements').plot(kind = 'bar')"
   ]
  },
  {
   "cell_type": "markdown",
   "metadata": {},
   "source": [
    "# Part 5: Repeat parts 2 through 4, but this time compile results for the best case."
   ]
  },
  {
   "cell_type": "code",
   "execution_count": 7,
   "metadata": {},
   "outputs": [
    {
     "name": "stdout",
     "output_type": "stream",
     "text": [
      "Insertion Sort\n"
     ]
    },
    {
     "data": {
      "text/html": [
       "<div>\n",
       "<style scoped>\n",
       "    .dataframe tbody tr th:only-of-type {\n",
       "        vertical-align: middle;\n",
       "    }\n",
       "\n",
       "    .dataframe tbody tr th {\n",
       "        vertical-align: top;\n",
       "    }\n",
       "\n",
       "    .dataframe thead th {\n",
       "        text-align: right;\n",
       "    }\n",
       "</style>\n",
       "<table border=\"1\" class=\"dataframe\">\n",
       "  <thead>\n",
       "    <tr style=\"text-align: right;\">\n",
       "      <th></th>\n",
       "      <th>No of Elements</th>\n",
       "      <th>Average Sorting time taken</th>\n",
       "    </tr>\n",
       "  </thead>\n",
       "  <tbody>\n",
       "    <tr>\n",
       "      <th>0</th>\n",
       "      <td>10</td>\n",
       "      <td>0.000000</td>\n",
       "    </tr>\n",
       "    <tr>\n",
       "      <th>1</th>\n",
       "      <td>20</td>\n",
       "      <td>0.000000</td>\n",
       "    </tr>\n",
       "    <tr>\n",
       "      <th>2</th>\n",
       "      <td>50</td>\n",
       "      <td>0.000332</td>\n",
       "    </tr>\n",
       "    <tr>\n",
       "      <th>3</th>\n",
       "      <td>100</td>\n",
       "      <td>0.000997</td>\n",
       "    </tr>\n",
       "    <tr>\n",
       "      <th>4</th>\n",
       "      <td>200</td>\n",
       "      <td>0.003989</td>\n",
       "    </tr>\n",
       "  </tbody>\n",
       "</table>\n",
       "</div>"
      ],
      "text/plain": [
       "   No of Elements  Average Sorting time taken\n",
       "0              10                    0.000000\n",
       "1              20                    0.000000\n",
       "2              50                    0.000332\n",
       "3             100                    0.000997\n",
       "4             200                    0.003989"
      ]
     },
     "metadata": {},
     "output_type": "display_data"
    },
    {
     "name": "stdout",
     "output_type": "stream",
     "text": [
      "Merge Sort\n"
     ]
    },
    {
     "data": {
      "text/html": [
       "<div>\n",
       "<style scoped>\n",
       "    .dataframe tbody tr th:only-of-type {\n",
       "        vertical-align: middle;\n",
       "    }\n",
       "\n",
       "    .dataframe tbody tr th {\n",
       "        vertical-align: top;\n",
       "    }\n",
       "\n",
       "    .dataframe thead th {\n",
       "        text-align: right;\n",
       "    }\n",
       "</style>\n",
       "<table border=\"1\" class=\"dataframe\">\n",
       "  <thead>\n",
       "    <tr style=\"text-align: right;\">\n",
       "      <th></th>\n",
       "      <th>No of Elements</th>\n",
       "      <th>Average Sorting time taken</th>\n",
       "    </tr>\n",
       "  </thead>\n",
       "  <tbody>\n",
       "    <tr>\n",
       "      <th>0</th>\n",
       "      <td>10</td>\n",
       "      <td>0.000332</td>\n",
       "    </tr>\n",
       "    <tr>\n",
       "      <th>1</th>\n",
       "      <td>20</td>\n",
       "      <td>0.000000</td>\n",
       "    </tr>\n",
       "    <tr>\n",
       "      <th>2</th>\n",
       "      <td>50</td>\n",
       "      <td>0.000333</td>\n",
       "    </tr>\n",
       "    <tr>\n",
       "      <th>3</th>\n",
       "      <td>100</td>\n",
       "      <td>0.000664</td>\n",
       "    </tr>\n",
       "    <tr>\n",
       "      <th>4</th>\n",
       "      <td>200</td>\n",
       "      <td>0.001330</td>\n",
       "    </tr>\n",
       "  </tbody>\n",
       "</table>\n",
       "</div>"
      ],
      "text/plain": [
       "   No of Elements  Average Sorting time taken\n",
       "0              10                    0.000332\n",
       "1              20                    0.000000\n",
       "2              50                    0.000333\n",
       "3             100                    0.000664\n",
       "4             200                    0.001330"
      ]
     },
     "metadata": {},
     "output_type": "display_data"
    },
    {
     "data": {
      "text/plain": [
       "<matplotlib.axes._subplots.AxesSubplot at 0x18fff0d4ec8>"
      ]
     },
     "execution_count": 7,
     "metadata": {},
     "output_type": "execute_result"
    },
    {
     "data": {
      "image/png": "[encoded data removed]",
      "text/plain": [
       "<Figure size 432x288 with 1 Axes>"
      ]
     },
     "metadata": {
      "needs_background": "light"
     },
     "output_type": "display_data"
    }
   ],
   "source": [
    "# The best case random arrays\n",
    "Numbers = []\n",
    "Average_time = []\n",
    "for n in [10, 20, 50, 100, 200]:\n",
    "    time_taken = []\n",
    "\n",
    "    for experiment in range(3):\n",
    "        array = [random.randint(0, n) for _ in range(n)]\n",
    "        t1 = time.time()\n",
    "        sorted_array = Insertion_sort(array)\n",
    "        t2 = time.time()\n",
    "        time_taken.append(t2 - t1)\n",
    "\n",
    "    Numbers.append(n)\n",
    "    Average_time.append(sum(time_taken) / len(time_taken))\n",
    "\n",
    "Insertion_df = pd.DataFrame()\n",
    "Insertion_df['No of Elements'] = Numbers\n",
    "Insertion_df['Average Sorting time taken'] = Average_time\n",
    "print(\"Insertion Sort\")\n",
    "display(Insertion_df)\n",
    "\n",
    "Numbers = []\n",
    "Average_time = []\n",
    "\n",
    "for n in [10, 20, 50, 100, 200]:\n",
    "    time_taken = []\n",
    "\n",
    "    for experiment in range(3):\n",
    "        array = [random.randint(0, n) for _ in range(n)]\n",
    "        t1 = time.time()\n",
    "        sorted_array = mergeSort(array, 0, len(array)-1)\n",
    "        t2 = time.time()\n",
    "        time_taken.append(t2 - t1)\n",
    "\n",
    "    Numbers.append(n)\n",
    "    Average_time.append(sum(time_taken) / len(time_taken))\n",
    "\n",
    "Merge_df = pd.DataFrame()\n",
    "Merge_df['No of Elements'] = Numbers\n",
    "Merge_df['Average Sorting time taken'] = Average_time\n",
    "print(\"Merge Sort\")\n",
    "display(Merge_df)\n",
    "Combined_df = pd.DataFrame()\n",
    "Combined_df['No of Elements'] = Merge_df['No of Elements']\n",
    "Combined_df['Insertion sort time'] = Insertion_df['Average Sorting time taken']\n",
    "Combined_df['Merge sort time'] = Merge_df['Average Sorting time taken']\n",
    "Combined_df.set_index('No of Elements').plot(kind = 'bar')"
   ]
  },
  {
   "cell_type": "markdown",
   "metadata": {},
   "source": [
    "# Part 6: Repeat parts 2 through 4, but this time compile results for the worst case."
   ]
  },
  {
   "cell_type": "code",
   "execution_count": 8,
   "metadata": {},
   "outputs": [
    {
     "name": "stdout",
     "output_type": "stream",
     "text": [
      "Insertion Sort\n"
     ]
    },
    {
     "data": {
      "text/html": [
       "<div>\n",
       "<style scoped>\n",
       "    .dataframe tbody tr th:only-of-type {\n",
       "        vertical-align: middle;\n",
       "    }\n",
       "\n",
       "    .dataframe tbody tr th {\n",
       "        vertical-align: top;\n",
       "    }\n",
       "\n",
       "    .dataframe thead th {\n",
       "        text-align: right;\n",
       "    }\n",
       "</style>\n",
       "<table border=\"1\" class=\"dataframe\">\n",
       "  <thead>\n",
       "    <tr style=\"text-align: right;\">\n",
       "      <th></th>\n",
       "      <th>No of Elements</th>\n",
       "      <th>Average Sorting time taken</th>\n",
       "    </tr>\n",
       "  </thead>\n",
       "  <tbody>\n",
       "    <tr>\n",
       "      <th>0</th>\n",
       "      <td>10</td>\n",
       "      <td>0.000000</td>\n",
       "    </tr>\n",
       "    <tr>\n",
       "      <th>1</th>\n",
       "      <td>20</td>\n",
       "      <td>0.000333</td>\n",
       "    </tr>\n",
       "    <tr>\n",
       "      <th>2</th>\n",
       "      <td>50</td>\n",
       "      <td>0.000333</td>\n",
       "    </tr>\n",
       "    <tr>\n",
       "      <th>3</th>\n",
       "      <td>100</td>\n",
       "      <td>0.002660</td>\n",
       "    </tr>\n",
       "    <tr>\n",
       "      <th>4</th>\n",
       "      <td>200</td>\n",
       "      <td>0.009973</td>\n",
       "    </tr>\n",
       "  </tbody>\n",
       "</table>\n",
       "</div>"
      ],
      "text/plain": [
       "   No of Elements  Average Sorting time taken\n",
       "0              10                    0.000000\n",
       "1              20                    0.000333\n",
       "2              50                    0.000333\n",
       "3             100                    0.002660\n",
       "4             200                    0.009973"
      ]
     },
     "metadata": {},
     "output_type": "display_data"
    },
    {
     "name": "stdout",
     "output_type": "stream",
     "text": [
      "Merge Sort\n"
     ]
    },
    {
     "data": {
      "text/html": [
       "<div>\n",
       "<style scoped>\n",
       "    .dataframe tbody tr th:only-of-type {\n",
       "        vertical-align: middle;\n",
       "    }\n",
       "\n",
       "    .dataframe tbody tr th {\n",
       "        vertical-align: top;\n",
       "    }\n",
       "\n",
       "    .dataframe thead th {\n",
       "        text-align: right;\n",
       "    }\n",
       "</style>\n",
       "<table border=\"1\" class=\"dataframe\">\n",
       "  <thead>\n",
       "    <tr style=\"text-align: right;\">\n",
       "      <th></th>\n",
       "      <th>No of Elements</th>\n",
       "      <th>Average Sorting time taken</th>\n",
       "    </tr>\n",
       "  </thead>\n",
       "  <tbody>\n",
       "    <tr>\n",
       "      <th>0</th>\n",
       "      <td>10</td>\n",
       "      <td>0.000000</td>\n",
       "    </tr>\n",
       "    <tr>\n",
       "      <th>1</th>\n",
       "      <td>20</td>\n",
       "      <td>0.000000</td>\n",
       "    </tr>\n",
       "    <tr>\n",
       "      <th>2</th>\n",
       "      <td>50</td>\n",
       "      <td>0.000329</td>\n",
       "    </tr>\n",
       "    <tr>\n",
       "      <th>3</th>\n",
       "      <td>100</td>\n",
       "      <td>0.000665</td>\n",
       "    </tr>\n",
       "    <tr>\n",
       "      <th>4</th>\n",
       "      <td>200</td>\n",
       "      <td>0.001994</td>\n",
       "    </tr>\n",
       "  </tbody>\n",
       "</table>\n",
       "</div>"
      ],
      "text/plain": [
       "   No of Elements  Average Sorting time taken\n",
       "0              10                    0.000000\n",
       "1              20                    0.000000\n",
       "2              50                    0.000329\n",
       "3             100                    0.000665\n",
       "4             200                    0.001994"
      ]
     },
     "metadata": {},
     "output_type": "display_data"
    },
    {
     "data": {
      "text/plain": [
       "<matplotlib.axes._subplots.AxesSubplot at 0x18fff15d9c8>"
      ]
     },
     "execution_count": 8,
     "metadata": {},
     "output_type": "execute_result"
    },
    {
     "data": {
      "image/png": "[encoded data removed]",
      "text/plain": [
       "<Figure size 432x288 with 1 Axes>"
      ]
     },
     "metadata": {
      "needs_background": "light"
     },
     "output_type": "display_data"
    }
   ],
   "source": [
    "# The worst cases reverse sorted array\n",
    "Numbers = []\n",
    "Average_time = []\n",
    "for n in [10, 20, 50, 100, 200]:\n",
    "    time_taken = []\n",
    "\n",
    "    for experiment in range(3):\n",
    "        array = [i for i in range(n)][::-1]\n",
    "        t1 = time.time()\n",
    "        sorted_array = Insertion_sort(array)\n",
    "        t2 = time.time()\n",
    "        time_taken.append(t2 - t1)\n",
    "\n",
    "    Numbers.append(n)\n",
    "    Average_time.append(sum(time_taken) / len(time_taken))\n",
    "\n",
    "Insertion_df = pd.DataFrame()\n",
    "Insertion_df['No of Elements'] = Numbers\n",
    "Insertion_df['Average Sorting time taken'] = Average_time\n",
    "print(\"Insertion Sort\")\n",
    "display(Insertion_df)\n",
    "\n",
    "\n",
    "Numbers = []\n",
    "Average_time = []\n",
    "for n in [10, 20, 50, 100, 200]:\n",
    "    time_taken = []\n",
    "\n",
    "    for experiment in range(3):\n",
    "        array = [i for i in range(n)][::-1]\n",
    "        t1 = time.time()\n",
    "        sorted_array = mergeSort(array, 0, len(array)-1)\n",
    "        t2 = time.time()\n",
    "        time_taken.append(t2 - t1)\n",
    "\n",
    "    Numbers.append(n)\n",
    "    Average_time.append(sum(time_taken) / len(time_taken))\n",
    "\n",
    "Merge_df = pd.DataFrame()\n",
    "Merge_df['No of Elements'] = Numbers\n",
    "Merge_df['Average Sorting time taken'] = Average_time\n",
    "print(\"Merge Sort\")\n",
    "display(Merge_df)\n",
    "Combined_df = pd.DataFrame()\n",
    "Combined_df['No of Elements'] = Merge_df['No of Elements']\n",
    "Combined_df['Insertion sort time'] = Insertion_df['Average Sorting time taken']\n",
    "Combined_df['Merge sort time'] = Merge_df['Average Sorting time taken']\n",
    "Combined_df.set_index('No of Elements').plot(kind = 'bar')"
   ]
  }
 ],
 "metadata": {
  "kernelspec": {
   "display_name": "Python 3",
   "language": "python",
   "name": "python3"
  },
  "language_info": {
   "codemirror_mode": {
    "name": "ipython",
    "version": 3
   },
   "file_extension": ".py",
   "mimetype": "text/x-python",
   "name": "python",
   "nbconvert_exporter": "python",
   "pygments_lexer": "ipython3",
   "version": "3.6.6"
  }
 },
 "nbformat": 4,
 "nbformat_minor": 4
}
