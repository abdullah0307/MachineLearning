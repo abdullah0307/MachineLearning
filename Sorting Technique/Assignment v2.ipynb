{
 "cells": [
  {
   "cell_type": "code",
   "execution_count": 2,
   "metadata": {},
   "outputs": [],
   "source": [
    "# Loading the libraries\n",
    "import time, random\n",
    "import pandas as pd"
   ]
  },
  {
   "cell_type": "code",
   "execution_count": 8,
   "metadata": {},
   "outputs": [],
   "source": [
    "# Part 1 Merge Sort\n",
    "def merge_array(My_array, l, m, r):\n",
    "    n1_side = m - l + 1\n",
    "    n2_side = r - m\n",
    "    \n",
    "    Left_arr = [0] * (n1_side)\n",
    "    Right_arr = [0] * (n2_side)\n",
    "\n",
    "    for i in range(0, n1_side):\n",
    "        Left_arr[i] = My_array[l + i]\n",
    "\n",
    "    for j in range(0, n2_side):\n",
    "        Right_arr[j] = My_array[m + 1 + j]\n",
    "\n",
    "    i,j,k = 0,0,l\n",
    "\n",
    "    while i < n1_side and j < n2_side:\n",
    "        if Left_arr[i] <= Right_arr[j]:\n",
    "            My_array[k] = Left_arr[i]\n",
    "            i = i + 1\n",
    "        else:\n",
    "            My_array[k] = Right_arr[j]\n",
    "            j = j + 1\n",
    "        k = k + 1\n",
    "\n",
    "    while i < n1_side:\n",
    "        My_array[k] = Left_arr[i]\n",
    "        i = i + 1\n",
    "        k = k + 1\n",
    "\n",
    "    while j < n2_side:\n",
    "        My_array[k] = Right_arr[j]\n",
    "        j = j + 1\n",
    "        k = k + 1\n",
    "\n",
    "def merge_sort_array(My_array, start, end):\n",
    "    if start < end:\n",
    "        mid = start+(end-start)//2\n",
    "\n",
    "        merge_sort_array(My_array, start, mid)\n",
    "        merge_sort_array(My_array, mid+1, end)\n",
    "        merge_array(My_array, start, mid, end)\n",
    "        \n",
    "    return My_array"
   ]
  },
  {
   "cell_type": "code",
   "execution_count": 9,
   "metadata": {},
   "outputs": [
    {
     "name": "stdout",
     "output_type": "stream",
     "text": [
      "Input array\n",
      "10 11 3 15 26 7 \n",
      "\n",
      "Output array\n",
      "3 7 10 11 15 26 "
     ]
    }
   ],
   "source": [
    "arr = [10, 11, 3, 15, 26, 7]\n",
    "\n",
    "n = len(arr)\n",
    "print(\"Input array\")\n",
    "for i in range(n):\n",
    "    print(\"%d\" % arr[i],end=\" \")\n",
    "\n",
    "merge_sort_array(arr, 0, n-1)\n",
    "print(\"\\n\\nOutput array\")\n",
    "for i in range(n):\n",
    "    print(\"%d\" % arr[i],end=\" \")"
   ]
  },
  {
   "cell_type": "code",
   "execution_count": 4,
   "metadata": {},
   "outputs": [
    {
     "data": {
      "text/html": [
       "<div>\n",
       "<style scoped>\n",
       "    .dataframe tbody tr th:only-of-type {\n",
       "        vertical-align: middle;\n",
       "    }\n",
       "\n",
       "    .dataframe tbody tr th {\n",
       "        vertical-align: top;\n",
       "    }\n",
       "\n",
       "    .dataframe thead th {\n",
       "        text-align: right;\n",
       "    }\n",
       "</style>\n",
       "<table border=\"1\" class=\"dataframe\">\n",
       "  <thead>\n",
       "    <tr style=\"text-align: right;\">\n",
       "      <th></th>\n",
       "      <th>No of Elements</th>\n",
       "      <th>Average Sorting time taken</th>\n",
       "    </tr>\n",
       "  </thead>\n",
       "  <tbody>\n",
       "    <tr>\n",
       "      <th>0</th>\n",
       "      <td>10</td>\n",
       "      <td>0.000000</td>\n",
       "    </tr>\n",
       "    <tr>\n",
       "      <th>1</th>\n",
       "      <td>20</td>\n",
       "      <td>0.000000</td>\n",
       "    </tr>\n",
       "    <tr>\n",
       "      <th>2</th>\n",
       "      <td>50</td>\n",
       "      <td>0.000665</td>\n",
       "    </tr>\n",
       "    <tr>\n",
       "      <th>3</th>\n",
       "      <td>100</td>\n",
       "      <td>0.001330</td>\n",
       "    </tr>\n",
       "    <tr>\n",
       "      <th>4</th>\n",
       "      <td>200</td>\n",
       "      <td>0.003816</td>\n",
       "    </tr>\n",
       "  </tbody>\n",
       "</table>\n",
       "</div>"
      ],
      "text/plain": [
       "   No of Elements  Average Sorting time taken\n",
       "0              10                    0.000000\n",
       "1              20                    0.000000\n",
       "2              50                    0.000665\n",
       "3             100                    0.001330\n",
       "4             200                    0.003816"
      ]
     },
     "execution_count": 4,
     "metadata": {},
     "output_type": "execute_result"
    }
   ],
   "source": [
    "# Part 2: Compile a table of average cases run times for Insertion Sort\n",
    "def InsertionSort(array):\n",
    "    for i in range(1, len(array)):\n",
    "        key = array[i]\n",
    "        j = i - 1\n",
    "        while j >= 0 and key < array[j]:\n",
    "            array[j + 1] = array[j]\n",
    "            j -= 1\n",
    "\n",
    "        array[j + 1] = key\n",
    "\n",
    "    return array\n",
    "\n",
    "\n",
    "Elements = []\n",
    "Average_time_taken = []\n",
    "\n",
    "for n in [10, 20, 50, 100, 200]:\n",
    "    excution_taken = []\n",
    "\n",
    "    for experiment in range(3):\n",
    "        array = [random.randint(0, n) for _ in range(n)]\n",
    "        start_time = time.time()\n",
    "        sorted_array = InsertionSort(array)\n",
    "        end_time = time.time()\n",
    "        excution_taken.append(end_time - start_time)\n",
    "\n",
    "    Elements.append(n)\n",
    "    Average_time_taken.append(sum(excution_taken) / len(excution_taken))\n",
    "\n",
    "Insertion_sort_df = pd.DataFrame()\n",
    "Insertion_sort_df['No of Elements'] = Elements\n",
    "Insertion_sort_df['Average Sorting time taken'] = Average_time_taken\n",
    "Insertion_sort_df"
   ]
  },
  {
   "cell_type": "code",
   "execution_count": 4,
   "metadata": {},
   "outputs": [
    {
     "data": {
      "text/html": [
       "<div>\n",
       "<style scoped>\n",
       "    .dataframe tbody tr th:only-of-type {\n",
       "        vertical-align: middle;\n",
       "    }\n",
       "\n",
       "    .dataframe tbody tr th {\n",
       "        vertical-align: top;\n",
       "    }\n",
       "\n",
       "    .dataframe thead th {\n",
       "        text-align: right;\n",
       "    }\n",
       "</style>\n",
       "<table border=\"1\" class=\"dataframe\">\n",
       "  <thead>\n",
       "    <tr style=\"text-align: right;\">\n",
       "      <th></th>\n",
       "      <th>No of Elements</th>\n",
       "      <th>Average Sorting time taken</th>\n",
       "    </tr>\n",
       "  </thead>\n",
       "  <tbody>\n",
       "    <tr>\n",
       "      <th>0</th>\n",
       "      <td>10</td>\n",
       "      <td>0.000000</td>\n",
       "    </tr>\n",
       "    <tr>\n",
       "      <th>1</th>\n",
       "      <td>20</td>\n",
       "      <td>0.000333</td>\n",
       "    </tr>\n",
       "    <tr>\n",
       "      <th>2</th>\n",
       "      <td>50</td>\n",
       "      <td>0.000332</td>\n",
       "    </tr>\n",
       "    <tr>\n",
       "      <th>3</th>\n",
       "      <td>100</td>\n",
       "      <td>0.000998</td>\n",
       "    </tr>\n",
       "    <tr>\n",
       "      <th>4</th>\n",
       "      <td>200</td>\n",
       "      <td>0.002327</td>\n",
       "    </tr>\n",
       "  </tbody>\n",
       "</table>\n",
       "</div>"
      ],
      "text/plain": [
       "   No of Elements  Average Sorting time taken\n",
       "0              10                    0.000000\n",
       "1              20                    0.000333\n",
       "2              50                    0.000332\n",
       "3             100                    0.000998\n",
       "4             200                    0.002327"
      ]
     },
     "execution_count": 4,
     "metadata": {},
     "output_type": "execute_result"
    }
   ],
   "source": [
    "# Part 3: Compile a table of average cases run times for Merge Sort\n",
    "Elements = []\n",
    "Average_time_taken = []\n",
    "\n",
    "for n in [10, 20, 50, 100, 200]:\n",
    "    time_taken = []\n",
    "\n",
    "    for experiment in range(3):\n",
    "        array = [random.randint(0, n) for _ in range(n)]\n",
    "        t1 = time.time()\n",
    "        sorted_array = merge_sort_array(array, 0, len(array) - 1)\n",
    "        t2 = time.time()\n",
    "        time_taken.append(t2 - t1)\n",
    "\n",
    "    Elements.append(n)\n",
    "    Average_time_taken.append(sum(time_taken) / len(time_taken))\n",
    "\n",
    "Merge_sort_df = pd.DataFrame()\n",
    "Merge_sort_df['No of Elements'] = Elements\n",
    "Merge_sort_df['Average Sorting time taken'] = Average_time_taken\n",
    "Merge_sort_df"
   ]
  },
  {
   "cell_type": "code",
   "execution_count": 5,
   "metadata": {},
   "outputs": [
    {
     "data": {
      "text/plain": [
       "<matplotlib.axes._subplots.AxesSubplot at 0x1587be67308>"
      ]
     },
     "execution_count": 5,
     "metadata": {},
     "output_type": "execute_result"
    },
    {
     "data": {
      "image/png": "[encoded data removed]",
      "text/plain": [
       "<Figure size 432x288 with 1 Axes>"
      ]
     },
     "metadata": {
      "needs_background": "light"
     },
     "output_type": "display_data"
    }
   ],
   "source": [
    "# Part 4: Create a graph comparing the average cases run times of Insertion Sort and Merge Sort.\n",
    "Merged_df = pd.DataFrame()\n",
    "Merged_df['No of Elements'] = Merge_sort_df['No of Elements']\n",
    "Merged_df['Insertion sort time'] = Insertion_sort_df['Average Sorting time taken']\n",
    "Merged_df['Merge sort time'] = Merge_sort_df['Average Sorting time taken']\n",
    "Merged_df.set_index('No of Elements').plot()"
   ]
  },
  {
   "cell_type": "code",
   "execution_count": 6,
   "metadata": {},
   "outputs": [
    {
     "name": "stdout",
     "output_type": "stream",
     "text": [
      "Insertion Sort\n"
     ]
    },
    {
     "data": {
      "text/html": [
       "<div>\n",
       "<style scoped>\n",
       "    .dataframe tbody tr th:only-of-type {\n",
       "        vertical-align: middle;\n",
       "    }\n",
       "\n",
       "    .dataframe tbody tr th {\n",
       "        vertical-align: top;\n",
       "    }\n",
       "\n",
       "    .dataframe thead th {\n",
       "        text-align: right;\n",
       "    }\n",
       "</style>\n",
       "<table border=\"1\" class=\"dataframe\">\n",
       "  <thead>\n",
       "    <tr style=\"text-align: right;\">\n",
       "      <th></th>\n",
       "      <th>No of Elements</th>\n",
       "      <th>Average Sorting time taken</th>\n",
       "    </tr>\n",
       "  </thead>\n",
       "  <tbody>\n",
       "    <tr>\n",
       "      <th>0</th>\n",
       "      <td>10</td>\n",
       "      <td>0.000000</td>\n",
       "    </tr>\n",
       "    <tr>\n",
       "      <th>1</th>\n",
       "      <td>20</td>\n",
       "      <td>0.000000</td>\n",
       "    </tr>\n",
       "    <tr>\n",
       "      <th>2</th>\n",
       "      <td>50</td>\n",
       "      <td>0.000333</td>\n",
       "    </tr>\n",
       "    <tr>\n",
       "      <th>3</th>\n",
       "      <td>100</td>\n",
       "      <td>0.006316</td>\n",
       "    </tr>\n",
       "    <tr>\n",
       "      <th>4</th>\n",
       "      <td>200</td>\n",
       "      <td>0.006981</td>\n",
       "    </tr>\n",
       "  </tbody>\n",
       "</table>\n",
       "</div>"
      ],
      "text/plain": [
       "   No of Elements  Average Sorting time taken\n",
       "0              10                    0.000000\n",
       "1              20                    0.000000\n",
       "2              50                    0.000333\n",
       "3             100                    0.006316\n",
       "4             200                    0.006981"
      ]
     },
     "metadata": {},
     "output_type": "display_data"
    },
    {
     "name": "stdout",
     "output_type": "stream",
     "text": [
      "Merge Sort\n"
     ]
    },
    {
     "data": {
      "text/html": [
       "<div>\n",
       "<style scoped>\n",
       "    .dataframe tbody tr th:only-of-type {\n",
       "        vertical-align: middle;\n",
       "    }\n",
       "\n",
       "    .dataframe tbody tr th {\n",
       "        vertical-align: top;\n",
       "    }\n",
       "\n",
       "    .dataframe thead th {\n",
       "        text-align: right;\n",
       "    }\n",
       "</style>\n",
       "<table border=\"1\" class=\"dataframe\">\n",
       "  <thead>\n",
       "    <tr style=\"text-align: right;\">\n",
       "      <th></th>\n",
       "      <th>No of Elements</th>\n",
       "      <th>Average Sorting time taken</th>\n",
       "    </tr>\n",
       "  </thead>\n",
       "  <tbody>\n",
       "    <tr>\n",
       "      <th>0</th>\n",
       "      <td>10</td>\n",
       "      <td>0.000000</td>\n",
       "    </tr>\n",
       "    <tr>\n",
       "      <th>1</th>\n",
       "      <td>20</td>\n",
       "      <td>0.000000</td>\n",
       "    </tr>\n",
       "    <tr>\n",
       "      <th>2</th>\n",
       "      <td>50</td>\n",
       "      <td>0.000332</td>\n",
       "    </tr>\n",
       "    <tr>\n",
       "      <th>3</th>\n",
       "      <td>100</td>\n",
       "      <td>0.001330</td>\n",
       "    </tr>\n",
       "    <tr>\n",
       "      <th>4</th>\n",
       "      <td>200</td>\n",
       "      <td>0.001994</td>\n",
       "    </tr>\n",
       "  </tbody>\n",
       "</table>\n",
       "</div>"
      ],
      "text/plain": [
       "   No of Elements  Average Sorting time taken\n",
       "0              10                    0.000000\n",
       "1              20                    0.000000\n",
       "2              50                    0.000332\n",
       "3             100                    0.001330\n",
       "4             200                    0.001994"
      ]
     },
     "metadata": {},
     "output_type": "display_data"
    },
    {
     "data": {
      "text/plain": [
       "<matplotlib.axes._subplots.AxesSubplot at 0x1587c405908>"
      ]
     },
     "execution_count": 6,
     "metadata": {},
     "output_type": "execute_result"
    },
    {
     "data": {
      "image/png": "[encoded data removed]",
      "text/plain": [
       "<Figure size 432x288 with 1 Axes>"
      ]
     },
     "metadata": {
      "needs_background": "light"
     },
     "output_type": "display_data"
    }
   ],
   "source": [
    "# Part 5: Repeat parts 2 through 4, but this time compile results for the best case.\n",
    "# The best case random arrays\n",
    "Elements = []\n",
    "Average_time_taken = []\n",
    "\n",
    "for n in [10, 20, 50, 100, 200]:\n",
    "    time_taken = []\n",
    "\n",
    "    for experiment in range(3):\n",
    "        array = [random.randint(0, n) for _ in range(n)]\n",
    "        t1 = time.time()\n",
    "        sorted_array = InsertionSort(array)\n",
    "        t2 = time.time()\n",
    "        time_taken.append(t2 - t1)\n",
    "\n",
    "    Elements.append(n)\n",
    "    Average_time_taken.append(sum(time_taken) / len(time_taken))\n",
    "\n",
    "Insertion_sort_df = pd.DataFrame()\n",
    "Insertion_sort_df['No of Elements'] = Elements\n",
    "Insertion_sort_df['Average Sorting time taken'] = Average_time_taken\n",
    "print(\"Insertion Sort\")\n",
    "display(Insertion_sort_df)\n",
    "\n",
    "Elements = []\n",
    "Average_time_taken = []\n",
    "\n",
    "for n in [10, 20, 50, 100, 200]:\n",
    "    time_taken = []\n",
    "\n",
    "    for experiment in range(3):\n",
    "        array = [random.randint(0, n) for _ in range(n)]\n",
    "        t1 = time.time()\n",
    "        sorted_array =  merge_sort_array(array, 0, len(array) - 1)\n",
    "        t2 = time.time()\n",
    "        time_taken.append(t2 - t1)\n",
    "\n",
    "    Elements.append(n)\n",
    "    Average_time_taken.append(sum(time_taken) / len(time_taken))\n",
    "\n",
    "Merge_sort_df = pd.DataFrame()\n",
    "Merge_sort_df['No of Elements'] = Elements\n",
    "Merge_sort_df['Average Sorting time taken'] = Average_time_taken\n",
    "print(\"Merge Sort\")\n",
    "display(Merge_sort_df)\n",
    "\n",
    "Combined_df = pd.DataFrame()\n",
    "Combined_df['No of Elements'] = Merge_sort_df['No of Elements']\n",
    "Combined_df['Insertion sort time'] = Insertion_sort_df['Average Sorting time taken']\n",
    "Combined_df['Merge sort time'] = Merge_sort_df['Average Sorting time taken']\n",
    "Combined_df.set_index('No of Elements').plot()"
   ]
  },
  {
   "cell_type": "code",
   "execution_count": 7,
   "metadata": {},
   "outputs": [
    {
     "name": "stdout",
     "output_type": "stream",
     "text": [
      "Insertion Sort\n"
     ]
    },
    {
     "data": {
      "text/html": [
       "<div>\n",
       "<style scoped>\n",
       "    .dataframe tbody tr th:only-of-type {\n",
       "        vertical-align: middle;\n",
       "    }\n",
       "\n",
       "    .dataframe tbody tr th {\n",
       "        vertical-align: top;\n",
       "    }\n",
       "\n",
       "    .dataframe thead th {\n",
       "        text-align: right;\n",
       "    }\n",
       "</style>\n",
       "<table border=\"1\" class=\"dataframe\">\n",
       "  <thead>\n",
       "    <tr style=\"text-align: right;\">\n",
       "      <th></th>\n",
       "      <th>No of Elements</th>\n",
       "      <th>Average Sorting time taken</th>\n",
       "    </tr>\n",
       "  </thead>\n",
       "  <tbody>\n",
       "    <tr>\n",
       "      <th>0</th>\n",
       "      <td>10</td>\n",
       "      <td>0.000000</td>\n",
       "    </tr>\n",
       "    <tr>\n",
       "      <th>1</th>\n",
       "      <td>20</td>\n",
       "      <td>0.000000</td>\n",
       "    </tr>\n",
       "    <tr>\n",
       "      <th>2</th>\n",
       "      <td>50</td>\n",
       "      <td>0.000665</td>\n",
       "    </tr>\n",
       "    <tr>\n",
       "      <th>3</th>\n",
       "      <td>100</td>\n",
       "      <td>0.002327</td>\n",
       "    </tr>\n",
       "    <tr>\n",
       "      <th>4</th>\n",
       "      <td>200</td>\n",
       "      <td>0.002660</td>\n",
       "    </tr>\n",
       "  </tbody>\n",
       "</table>\n",
       "</div>"
      ],
      "text/plain": [
       "   No of Elements  Average Sorting time taken\n",
       "0              10                    0.000000\n",
       "1              20                    0.000000\n",
       "2              50                    0.000665\n",
       "3             100                    0.002327\n",
       "4             200                    0.002660"
      ]
     },
     "metadata": {},
     "output_type": "display_data"
    },
    {
     "name": "stdout",
     "output_type": "stream",
     "text": [
      "Merge Sort\n"
     ]
    },
    {
     "data": {
      "text/html": [
       "<div>\n",
       "<style scoped>\n",
       "    .dataframe tbody tr th:only-of-type {\n",
       "        vertical-align: middle;\n",
       "    }\n",
       "\n",
       "    .dataframe tbody tr th {\n",
       "        vertical-align: top;\n",
       "    }\n",
       "\n",
       "    .dataframe thead th {\n",
       "        text-align: right;\n",
       "    }\n",
       "</style>\n",
       "<table border=\"1\" class=\"dataframe\">\n",
       "  <thead>\n",
       "    <tr style=\"text-align: right;\">\n",
       "      <th></th>\n",
       "      <th>No of Elements</th>\n",
       "      <th>Average Sorting time taken</th>\n",
       "    </tr>\n",
       "  </thead>\n",
       "  <tbody>\n",
       "    <tr>\n",
       "      <th>0</th>\n",
       "      <td>10</td>\n",
       "      <td>0.000000</td>\n",
       "    </tr>\n",
       "    <tr>\n",
       "      <th>1</th>\n",
       "      <td>20</td>\n",
       "      <td>0.000000</td>\n",
       "    </tr>\n",
       "    <tr>\n",
       "      <th>2</th>\n",
       "      <td>50</td>\n",
       "      <td>0.000332</td>\n",
       "    </tr>\n",
       "    <tr>\n",
       "      <th>3</th>\n",
       "      <td>100</td>\n",
       "      <td>0.000665</td>\n",
       "    </tr>\n",
       "    <tr>\n",
       "      <th>4</th>\n",
       "      <td>200</td>\n",
       "      <td>0.002327</td>\n",
       "    </tr>\n",
       "  </tbody>\n",
       "</table>\n",
       "</div>"
      ],
      "text/plain": [
       "   No of Elements  Average Sorting time taken\n",
       "0              10                    0.000000\n",
       "1              20                    0.000000\n",
       "2              50                    0.000332\n",
       "3             100                    0.000665\n",
       "4             200                    0.002327"
      ]
     },
     "metadata": {},
     "output_type": "display_data"
    },
    {
     "data": {
      "text/plain": [
       "<matplotlib.axes._subplots.AxesSubplot at 0x1587c49a848>"
      ]
     },
     "execution_count": 7,
     "metadata": {},
     "output_type": "execute_result"
    },
    {
     "data": {
      "image/png": "[encoded data removed]",
      "text/plain": [
       "<Figure size 432x288 with 1 Axes>"
      ]
     },
     "metadata": {
      "needs_background": "light"
     },
     "output_type": "display_data"
    }
   ],
   "source": [
    "# Part 6: Repeat parts 2 through 4, but this time compile results for the worst case.\n",
    "# The worst cases reverse sorted array\n",
    "Elements = []\n",
    "Average_time_taken = []\n",
    "\n",
    "for n in [10, 20, 50, 100, 200]:\n",
    "    time_taken = []\n",
    "\n",
    "    for experiment in range(3):\n",
    "        array = [i for i in range(n)][::-1]\n",
    "        t1 = time.time()\n",
    "        sorted_array = InsertionSort(array)\n",
    "        t2 = time.time()\n",
    "        time_taken.append(t2 - t1)\n",
    "\n",
    "    Elements.append(n)\n",
    "    Average_time_taken.append(sum(time_taken) / len(time_taken))\n",
    "\n",
    "Insertion_sort_df = pd.DataFrame()\n",
    "Insertion_sort_df['No of Elements'] = Elements\n",
    "Insertion_sort_df['Average Sorting time taken'] = Average_time_taken\n",
    "print(\"Insertion Sort\")\n",
    "display(Insertion_sort_df)\n",
    "\n",
    "Elements = []\n",
    "Average_time_taken = []\n",
    "\n",
    "for n in [10, 20, 50, 100, 200]:\n",
    "    time_taken = []\n",
    "\n",
    "    for experiment in range(3):\n",
    "        array = [i for i in range(n)][::-1]\n",
    "        t1 = time.time()\n",
    "        sorted_array =  merge_sort_array(array, 0, len(array) - 1)\n",
    "        t2 = time.time()\n",
    "        time_taken.append(t2 - t1)\n",
    "\n",
    "    Elements.append(n)\n",
    "    Average_time_taken.append(sum(time_taken) / len(time_taken))\n",
    "\n",
    "Merge_sort_df = pd.DataFrame()\n",
    "Merge_sort_df['No of Elements'] = Elements\n",
    "Merge_sort_df['Average Sorting time taken'] = Average_time_taken\n",
    "print(\"Merge Sort\")\n",
    "display(Merge_sort_df)\n",
    "\n",
    "Combined_df = pd.DataFrame()\n",
    "Combined_df['No of Elements'] = Merge_sort_df['No of Elements']\n",
    "Combined_df['Insertion sort time'] = Insertion_sort_df['Average Sorting time taken']\n",
    "Combined_df['Merge sort time'] = Merge_sort_df['Average Sorting time taken']\n",
    "Combined_df.set_index('No of Elements').plot()"
   ]
  },
  {
   "cell_type": "code",
   "execution_count": null,
   "metadata": {},
   "outputs": [],
   "source": []
  }
 ],
 "metadata": {
  "kernelspec": {
   "display_name": "Python 3",
   "language": "python",
   "name": "python3"
  },
  "language_info": {
   "codemirror_mode": {
    "name": "ipython",
    "version": 3
   },
   "file_extension": ".py",
   "mimetype": "text/x-python",
   "name": "python",
   "nbconvert_exporter": "python",
   "pygments_lexer": "ipython3",
   "version": "3.6.6"
  }
 },
 "nbformat": 4,
 "nbformat_minor": 4
}
