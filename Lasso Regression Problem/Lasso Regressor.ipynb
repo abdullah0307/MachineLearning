{
 "cells": [
  {
   "cell_type": "code",
   "execution_count": 1,
   "metadata": {},
   "outputs": [],
   "source": [
    "# Importing necessary packages\n",
    "import os # enable interaction with the operating system\n",
    "import pandas as pd # python's data handling package\n",
    "import numpy as np # python's scientific computing package\n",
    "import matplotlib.pyplot as plt # python's plotting package\n",
    "import random # random numbers package\n",
    "from sklearn.linear_model import Lasso # Lasso regression"
   ]
  },
  {
   "cell_type": "markdown",
   "metadata": {},
   "source": [
    "**Loading the dataset file**"
   ]
  },
  {
   "cell_type": "code",
   "execution_count": 2,
   "metadata": {},
   "outputs": [],
   "source": [
    "FILENAME = 'Houseprice_data_scaled.csv'\n",
    "data = pd.read_csv(FILENAME) "
   ]
  },
  {
   "cell_type": "markdown",
   "metadata": {},
   "source": [
    "**Extracting the first 1800 records for train data and remaining 900 for the test data**"
   ]
  },
  {
   "cell_type": "code",
   "execution_count": 3,
   "metadata": {},
   "outputs": [],
   "source": [
    "# First 1800 data items are training set; the next 600 are the validation set\n",
    "train = data.iloc[:1800] \n",
    "test = data.iloc[1800:2400]"
   ]
  },
  {
   "cell_type": "markdown",
   "metadata": {},
   "source": [
    "**Now seperate the features and columns of the train and test data**"
   ]
  },
  {
   "cell_type": "code",
   "execution_count": 4,
   "metadata": {},
   "outputs": [],
   "source": [
    "# Creating the \"X\" and \"y\" variables. We drop sale price from \"X\"\n",
    "X_train, X_test = train.drop('Sale Price', axis=1), test.drop('Sale Price', axis=1)\n",
    "y_train, y_test = train[['Sale Price']], test[['Sale Price']] "
   ]
  },
  {
   "cell_type": "markdown",
   "metadata": {},
   "source": [
    "**Here are we Implmenting all the mentioned terms**"
   ]
  },
  {
   "cell_type": "code",
   "execution_count": 5,
   "metadata": {},
   "outputs": [],
   "source": [
    "# Here we records the prodictions from each model output\n",
    "y_predictions = []\n",
    "# Here we records the error rate per each iteration\n",
    "error = []\n",
    "# This is the loop for all the 100 models\n",
    "for i in range(100):\n",
    "    \n",
    "    # Here do we set the random seed value\n",
    "    random.seed(i)\n",
    "    \n",
    "    # Here we extrect the random 900 indexes value from the 1800 records\n",
    "    indexes = [i for i in range(len(X_train.values))]\n",
    "    selected_indexes = random.choices(indexes, k = 900)\n",
    "    \n",
    "    # Now select features and labels of that records \n",
    "    selected_values_X = [X_train.values[val] for val in selected_indexes]\n",
    "    selected_values_y = [y_train.values[val][0] for val in selected_indexes]\n",
    "    \n",
    "    # Apply the Lasso Model over these records\n",
    "    regr = Lasso(alpha=0.05).fit(selected_values_X, selected_values_y)\n",
    "    \n",
    "    # Get the prediction over the test data\n",
    "    y_pred = regr.predict(X_test)\n",
    "    \n",
    "    # Record the average of the prediction\n",
    "    y_predictions.append(np.std(y_pred))\n",
    "    \n",
    "    # Calculate the error from the actual standard deviation value of the test labels minus the average of the prediction labels\n",
    "    error.append(np.std(y_test) - np.average(y_predictions))"
   ]
  },
  {
   "cell_type": "code",
   "execution_count": 6,
   "metadata": {},
   "outputs": [
    {
     "data": {
      "text/plain": [
       "[<matplotlib.lines.Line2D at 0x2d3277f4f88>]"
      ]
     },
     "execution_count": 6,
     "metadata": {},
     "output_type": "execute_result"
    },
    {
     "data": {
      "image/png": "[encoded data removed]",
      "text/plain": [
       "<Figure size 432x288 with 1 Axes>"
      ]
     },
     "metadata": {
      "needs_background": "light"
     },
     "output_type": "display_data"
    }
   ],
   "source": [
    "# Plotting the error rate is \n",
    "plt.plot(error)\n",
    "# Here in the below graph shows that the error rate clearly decreasing"
   ]
  }
 ],
 "metadata": {
  "kernelspec": {
   "display_name": "Python 3",
   "language": "python",
   "name": "python3"
  },
  "language_info": {
   "codemirror_mode": {
    "name": "ipython",
    "version": 3
   },
   "file_extension": ".py",
   "mimetype": "text/x-python",
   "name": "python",
   "nbconvert_exporter": "python",
   "pygments_lexer": "ipython3",
   "version": "3.7.6"
  }
 },
 "nbformat": 4,
 "nbformat_minor": 4
}
