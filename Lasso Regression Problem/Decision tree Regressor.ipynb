{
 "cells": [
  {
   "cell_type": "markdown",
   "metadata": {},
   "source": [
    "**Importing necessary packages**"
   ]
  },
  {
   "cell_type": "code",
   "execution_count": 1,
   "metadata": {},
   "outputs": [],
   "source": [
    "import os # enable interaction with the operating system\n",
    "import pandas as pd # python's data handling package\n",
    "import numpy as np # python's scientific computing package\n",
    "import matplotlib.pyplot as plt # python's plotting package\n",
    "from sklearn.tree import DecisionTreeRegressor # Decision tree model"
   ]
  },
  {
   "cell_type": "markdown",
   "metadata": {},
   "source": [
    "**Read data from Excel**"
   ]
  },
  {
   "cell_type": "code",
   "execution_count": 2,
   "metadata": {},
   "outputs": [
    {
     "name": "stdout",
     "output_type": "stream",
     "text": [
      "   Qual  Area   Price\n",
      "0     7  1710  0.2085\n",
      "1     6  1262  0.1815\n",
      "2     7  1786  0.2235\n",
      "3     7  1717  0.1400\n",
      "4     8  2198  0.2500\n"
     ]
    }
   ],
   "source": [
    "data = pd.read_excel('Data_DecisionTree.xlsx') \n",
    "print(data.head())"
   ]
  },
  {
   "cell_type": "markdown",
   "metadata": {},
   "source": [
    "**First 1800 data items are training set; the next 600 are the validation set**"
   ]
  },
  {
   "cell_type": "code",
   "execution_count": 3,
   "metadata": {},
   "outputs": [
    {
     "name": "stdout",
     "output_type": "stream",
     "text": [
      "(1800, 3) (599, 3) (507, 3)\n"
     ]
    }
   ],
   "source": [
    "train = data.iloc[:1800]\n",
    "val = data.iloc[1801:2400]\n",
    "test = data.iloc[2401:]\n",
    "print(train.shape,val.shape,test.shape)"
   ]
  },
  {
   "cell_type": "markdown",
   "metadata": {},
   "source": [
    "**Seperating the features and labels of train, test and validation data**"
   ]
  },
  {
   "cell_type": "code",
   "execution_count": 4,
   "metadata": {},
   "outputs": [],
   "source": [
    "y_train = train['Price'].values\n",
    "X_train = train.iloc[:, :-1].values\n",
    "y_test = test['Price'].values\n",
    "X_test = test.iloc[:,:-1].values\n",
    "y_val = val['Price'].values\n",
    "X_val = val.iloc[:,:-1].values"
   ]
  },
  {
   "cell_type": "markdown",
   "metadata": {},
   "source": [
    "**Applying the Model over the train data and evluating over the test data**"
   ]
  },
  {
   "cell_type": "code",
   "execution_count": 5,
   "metadata": {},
   "outputs": [
    {
     "name": "stdout",
     "output_type": "stream",
     "text": [
      "Model Accuracy: 0.6793494284169873\n",
      "Mean Squarred Error: 0.002140349277123814\n"
     ]
    }
   ],
   "source": [
    "# Decision tree Regressoe implementation\n",
    "\n",
    "dtr = DecisionTreeRegressor()\n",
    "dtr.fit(X_train, y_train)\n",
    "\n",
    "# Getting the test data prediction\n",
    "y_pred = dtr.predict(X_test)\n",
    "\n",
    "# Evaluating the model prediction\n",
    "print(f'Model Accuracy: {dtr.score(X_val, y_val)}')\n",
    "\n",
    "# Evaluating the Mean Squrred Error of the model prediction\n",
    "from sklearn.metrics import mean_squared_error\n",
    "MSE = mean_squared_error(y_test, y_pred)\n",
    "print(\"Mean Squarred Error:\", MSE)"
   ]
  },
  {
   "cell_type": "code",
   "execution_count": 6,
   "metadata": {},
   "outputs": [
    {
     "name": "stdout",
     "output_type": "stream",
     "text": [
      "  feature  importance\n",
      "0    Qual    0.693141\n",
      "1    Area    0.306859\n"
     ]
    }
   ],
   "source": [
    "# Getting the features importance \n",
    "dtr.feature_importances_\n",
    "dtr_df = pd.DataFrame({'feature': list(train.iloc[:, :-1].columns), 'importance': dtr.feature_importances_}).sort_values('importance', ascending = False)\n",
    "print(dtr_df)"
   ]
  },
  {
   "cell_type": "markdown",
   "metadata": {},
   "source": [
    "**MSE Estimation for the Quality attribute**"
   ]
  },
  {
   "cell_type": "code",
   "execution_count": 7,
   "metadata": {},
   "outputs": [
    {
     "name": "stdout",
     "output_type": "stream",
     "text": [
      "----------------------------------------------------\n",
      "Z 3.5\n",
      "No of obs < Z: 32\n",
      "mse of < Z: 0.014377971325402472\n",
      "----------------------------------------------------\n",
      "Z 4.5\n",
      "No of obs < Z: 173\n",
      "mse of < Z: 0.011157774143641292\n",
      "----------------------------------------------------\n",
      "Z 5.5\n",
      "No of obs < Z: 661\n",
      "mse of < Z: 0.008015727707185054\n",
      "----------------------------------------------------\n",
      "Z 6.5\n",
      "No of obs < Z: 1122\n",
      "mse of < Z: 0.005747297142388213\n",
      "----------------------------------------------------\n",
      "Z 7.5\n",
      "No of obs < Z: 1512\n",
      "mse of < Z: 0.0036719466408583613\n",
      "----------------------------------------------------\n",
      "Z 8.5\n",
      "No of obs < Z: 1726\n",
      "mse of < Z: 0.002333925540583919\n",
      "----------------------------------------------------\n",
      "Z 9.5\n",
      "No of obs < Z: 1784\n",
      "mse of < Z: 0.0018351864824334887\n",
      "----------------------------------------------------\n",
      "Z 10\n",
      "No of obs < Z: 1784\n",
      "mse of < Z: 0.0018351864824334887\n"
     ]
    }
   ],
   "source": [
    "MSE = []\n",
    "for Z in [3.5, 4.5, 5.5, 6.5, 7.5, 8.5, 9.5, 10]:\n",
    "    # Extracting the Quality data according to the threshold value\n",
    "    X = train[train['Qual'] < Z]['Qual'].values\n",
    "    y = train[train['Qual'] < Z]['Price']\n",
    "    \n",
    "    # Model Initializing\n",
    "    dtr = DecisionTreeRegressor()\n",
    "    dtr.fit(X.reshape((-1,1)), y)\n",
    "\n",
    "    # Predict over the test dataset\n",
    "    pred = dtr.predict(train['Qual'].values.reshape((-1,1)))\n",
    "    print(\"----------------------------------------------------\")\n",
    "    print(\"Z\", Z)\n",
    "    print(\"No of obs < Z:\", X.shape[0])\n",
    "    print(\"mse of < Z:\", mean_squared_error(pred, train['Price'].values))\n",
    "    MSE.append(mean_squared_error(pred, train['Price'].values))"
   ]
  },
  {
   "cell_type": "code",
   "execution_count": 8,
   "metadata": {},
   "outputs": [
    {
     "data": {
      "text/plain": [
       "[<matplotlib.lines.Line2D at 0x161e22b9888>]"
      ]
     },
     "execution_count": 8,
     "metadata": {},
     "output_type": "execute_result"
    },
    {
     "data": {
      "image/png": "[encoded data removed]",
      "text/plain": [
       "<Figure size 432x288 with 1 Axes>"
      ]
     },
     "metadata": {
      "needs_background": "light"
     },
     "output_type": "display_data"
    }
   ],
   "source": [
    "\n",
    "plt.plot(range(8), MSE)"
   ]
  },
  {
   "cell_type": "markdown",
   "metadata": {},
   "source": [
    "**MSE Estimation for the Area attribute**"
   ]
  },
  {
   "cell_type": "code",
   "execution_count": 9,
   "metadata": {},
   "outputs": [
    {
     "name": "stdout",
     "output_type": "stream",
     "text": [
      "----------------------------------------------------\n",
      "Z 600\n",
      "No of obs < Z: 6\n",
      "mse of < Z: 0.020798398313005003\n",
      "----------------------------------------------------\n",
      "Z 900\n",
      "No of obs < Z: 163\n",
      "mse of < Z: 0.00845152055917005\n",
      "----------------------------------------------------\n",
      "Z 1500\n",
      "No of obs < Z: 979\n",
      "mse of < Z: 0.0039059684033115557\n",
      "----------------------------------------------------\n",
      "Z 1800\n",
      "No of obs < Z: 1388\n",
      "mse of < Z: 0.002905574954515882\n",
      "----------------------------------------------------\n",
      "Z 2100\n",
      "No of obs < Z: 1599\n",
      "mse of < Z: 0.0021153985927212056\n",
      "----------------------------------------------------\n",
      "Z 2400\n",
      "No of obs < Z: 1698\n",
      "mse of < Z: 0.001475037780778428\n",
      "----------------------------------------------------\n",
      "Z 2700\n",
      "No of obs < Z: 1765\n",
      "mse of < Z: 0.0011904754617783355\n",
      "----------------------------------------------------\n",
      "Z 3000\n",
      "No of obs < Z: 1785\n",
      "mse of < Z: 0.0010779690779272244\n",
      "----------------------------------------------------\n",
      "Z 3500\n",
      "No of obs < Z: 1798\n",
      "mse of < Z: 0.0009008028432050022\n",
      "----------------------------------------------------\n",
      "Z 3700\n",
      "No of obs < Z: 1800\n",
      "mse of < Z: 0.0008223028432050021\n"
     ]
    }
   ],
   "source": [
    "MSE = []\n",
    "for Z in [600, 900, 1500, 1800, 2100, 2400, 2700, 3000, 3500, 3700]:\n",
    "    # Extracting the Quality data according to the threshold value\n",
    "    X = train[train['Area'] < Z]['Area'].values\n",
    "    y = train[train['Area'] < Z]['Price']\n",
    "    \n",
    "    # Model Initializing\n",
    "    dtr = DecisionTreeRegressor()\n",
    "    dtr.fit(X.reshape((-1,1)), y)\n",
    "\n",
    "    # Predict over the test dataset\n",
    "    pred = dtr.predict(train['Area'].values.reshape((-1,1)))\n",
    "    print(\"----------------------------------------------------\")\n",
    "    print(\"Z\", Z)\n",
    "    print(\"No of obs < Z:\", X.shape[0])\n",
    "    print(\"mse of < Z:\", mean_squared_error(pred, train['Price'].values))\n",
    "    MSE.append(mean_squared_error(pred, train['Price'].values))"
   ]
  },
  {
   "cell_type": "code",
   "execution_count": 10,
   "metadata": {},
   "outputs": [
    {
     "data": {
      "text/plain": [
       "[<matplotlib.lines.Line2D at 0x161e22cc3c8>]"
      ]
     },
     "execution_count": 10,
     "metadata": {},
     "output_type": "execute_result"
    },
    {
     "data": {
      "image/png": "[encoded data removed]",
      "text/plain": [
       "<Figure size 432x288 with 1 Axes>"
      ]
     },
     "metadata": {
      "needs_background": "light"
     },
     "output_type": "display_data"
    }
   ],
   "source": [
    "plt.plot(range(10), MSE)"
   ]
  },
  {
   "cell_type": "markdown",
   "metadata": {},
   "source": [
    "**Predicting the prediction column of the whole data**"
   ]
  },
  {
   "cell_type": "code",
   "execution_count": 11,
   "metadata": {},
   "outputs": [],
   "source": [
    "X = data.iloc[:,:-1].values\n",
    "y = data.iloc[:,-1].values\n",
    "\n",
    "dtr = DecisionTreeRegressor()\n",
    "dtr.fit(X, y)\n",
    "\n",
    "prediction = dtr.predict(X)\n",
    "data['prediction'] = prediction"
   ]
  },
  {
   "cell_type": "code",
   "execution_count": 12,
   "metadata": {},
   "outputs": [
    {
     "data": {
      "text/html": [
       "<div>\n",
       "<style scoped>\n",
       "    .dataframe tbody tr th:only-of-type {\n",
       "        vertical-align: middle;\n",
       "    }\n",
       "\n",
       "    .dataframe tbody tr th {\n",
       "        vertical-align: top;\n",
       "    }\n",
       "\n",
       "    .dataframe thead th {\n",
       "        text-align: right;\n",
       "    }\n",
       "</style>\n",
       "<table border=\"1\" class=\"dataframe\">\n",
       "  <thead>\n",
       "    <tr style=\"text-align: right;\">\n",
       "      <th></th>\n",
       "      <th>Qual</th>\n",
       "      <th>Area</th>\n",
       "      <th>Price</th>\n",
       "      <th>prediction</th>\n",
       "    </tr>\n",
       "  </thead>\n",
       "  <tbody>\n",
       "    <tr>\n",
       "      <th>0</th>\n",
       "      <td>7</td>\n",
       "      <td>1710</td>\n",
       "      <td>0.2085</td>\n",
       "      <td>0.196167</td>\n",
       "    </tr>\n",
       "    <tr>\n",
       "      <th>1</th>\n",
       "      <td>6</td>\n",
       "      <td>1262</td>\n",
       "      <td>0.1815</td>\n",
       "      <td>0.183250</td>\n",
       "    </tr>\n",
       "    <tr>\n",
       "      <th>2</th>\n",
       "      <td>7</td>\n",
       "      <td>1786</td>\n",
       "      <td>0.2235</td>\n",
       "      <td>0.223500</td>\n",
       "    </tr>\n",
       "    <tr>\n",
       "      <th>3</th>\n",
       "      <td>7</td>\n",
       "      <td>1717</td>\n",
       "      <td>0.1400</td>\n",
       "      <td>0.163750</td>\n",
       "    </tr>\n",
       "    <tr>\n",
       "      <th>4</th>\n",
       "      <td>8</td>\n",
       "      <td>2198</td>\n",
       "      <td>0.2500</td>\n",
       "      <td>0.250000</td>\n",
       "    </tr>\n",
       "  </tbody>\n",
       "</table>\n",
       "</div>"
      ],
      "text/plain": [
       "   Qual  Area   Price  prediction\n",
       "0     7  1710  0.2085    0.196167\n",
       "1     6  1262  0.1815    0.183250\n",
       "2     7  1786  0.2235    0.223500\n",
       "3     7  1717  0.1400    0.163750\n",
       "4     8  2198  0.2500    0.250000"
      ]
     },
     "execution_count": 12,
     "metadata": {},
     "output_type": "execute_result"
    }
   ],
   "source": [
    "# Model Results\n",
    "data.head()"
   ]
  },
  {
   "cell_type": "code",
   "execution_count": 13,
   "metadata": {},
   "outputs": [],
   "source": [
    "# Save the dataset\n",
    "data.to_csv(\"Results.csv\", index = False)"
   ]
  }
 ],
 "metadata": {
  "kernelspec": {
   "display_name": "Python 3",
   "language": "python",
   "name": "python3"
  },
  "language_info": {
   "codemirror_mode": {
    "name": "ipython",
    "version": 3
   },
   "file_extension": ".py",
   "mimetype": "text/x-python",
   "name": "python",
   "nbconvert_exporter": "python",
   "pygments_lexer": "ipython3",
   "version": "3.7.6"
  }
 },
 "nbformat": 4,
 "nbformat_minor": 4
}
