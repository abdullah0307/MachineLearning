{
 "cells": [
  {
   "cell_type": "markdown",
   "metadata": {},
   "source": [
    "# Loading the dataset and Preprocessing it Part1"
   ]
  },
  {
   "cell_type": "code",
   "execution_count": 1,
   "metadata": {
    "colab": {
     "base_uri": "https://localhost:8080/"
    },
    "id": "lKVCw66_4z5W",
    "outputId": "21c649a8-b42b-41b7-82a4-88a90bd76a7f"
   },
   "outputs": [
    {
     "name": "stdout",
     "output_type": "stream",
     "text": [
      "(14, 2)\n"
     ]
    },
    {
     "data": {
      "text/html": [
       "<div>\n",
       "<style scoped>\n",
       "    .dataframe tbody tr th:only-of-type {\n",
       "        vertical-align: middle;\n",
       "    }\n",
       "\n",
       "    .dataframe tbody tr th {\n",
       "        vertical-align: top;\n",
       "    }\n",
       "\n",
       "    .dataframe thead th {\n",
       "        text-align: right;\n",
       "    }\n",
       "</style>\n",
       "<table border=\"1\" class=\"dataframe\">\n",
       "  <thead>\n",
       "    <tr style=\"text-align: right;\">\n",
       "      <th></th>\n",
       "      <th>Article</th>\n",
       "      <th>Sentiment</th>\n",
       "    </tr>\n",
       "  </thead>\n",
       "  <tbody>\n",
       "    <tr>\n",
       "      <th>0</th>\n",
       "      <td>News_1</td>\n",
       "      <td>neg</td>\n",
       "    </tr>\n",
       "    <tr>\n",
       "      <th>1</th>\n",
       "      <td>News_2</td>\n",
       "      <td>pos</td>\n",
       "    </tr>\n",
       "  </tbody>\n",
       "</table>\n",
       "</div>"
      ],
      "text/plain": [
       "  Article Sentiment\n",
       "0  News_1       neg\n",
       "1  News_2       pos"
      ]
     },
     "metadata": {},
     "output_type": "display_data"
    },
    {
     "name": "stdout",
     "output_type": "stream",
     "text": [
      "(14, 3)\n"
     ]
    },
    {
     "data": {
      "text/html": [
       "<div>\n",
       "<style scoped>\n",
       "    .dataframe tbody tr th:only-of-type {\n",
       "        vertical-align: middle;\n",
       "    }\n",
       "\n",
       "    .dataframe tbody tr th {\n",
       "        vertical-align: top;\n",
       "    }\n",
       "\n",
       "    .dataframe thead th {\n",
       "        text-align: right;\n",
       "    }\n",
       "</style>\n",
       "<table border=\"1\" class=\"dataframe\">\n",
       "  <thead>\n",
       "    <tr style=\"text-align: right;\">\n",
       "      <th></th>\n",
       "      <th>Article</th>\n",
       "      <th>Sentiment</th>\n",
       "      <th>text</th>\n",
       "    </tr>\n",
       "  </thead>\n",
       "  <tbody>\n",
       "    <tr>\n",
       "      <th>0</th>\n",
       "      <td>News_1</td>\n",
       "      <td>neg</td>\n",
       "      <td>Tesla: Elon Musk says company headquarters wil...</td>\n",
       "    </tr>\n",
       "    <tr>\n",
       "      <th>1</th>\n",
       "      <td>News_2</td>\n",
       "      <td>pos</td>\n",
       "      <td>Elon Musk brings Shiba Inu back to Earth - Dog...</td>\n",
       "    </tr>\n",
       "    <tr>\n",
       "      <th>2</th>\n",
       "      <td>News_3</td>\n",
       "      <td>pos</td>\n",
       "      <td>Elon Musk made $36 billion in a single day on ...</td>\n",
       "    </tr>\n",
       "    <tr>\n",
       "      <th>3</th>\n",
       "      <td>News_4</td>\n",
       "      <td>neg</td>\n",
       "      <td>Elon Musk's Tesla may be ready for a second in...</td>\n",
       "    </tr>\n",
       "  </tbody>\n",
       "</table>\n",
       "</div>"
      ],
      "text/plain": [
       "  Article Sentiment                                               text\n",
       "0  News_1       neg  Tesla: Elon Musk says company headquarters wil...\n",
       "1  News_2       pos  Elon Musk brings Shiba Inu back to Earth - Dog...\n",
       "2  News_3       pos  Elon Musk made $36 billion in a single day on ...\n",
       "3  News_4       neg  Elon Musk's Tesla may be ready for a second in..."
      ]
     },
     "metadata": {},
     "output_type": "display_data"
    }
   ],
   "source": [
    "import pandas as pd\n",
    "\n",
    "text_df=pd.read_csv(\"sentiment_newsarticles.csv\")\n",
    "text_df.loc[text_df.shape[0]] = [\"News_12\", None]\n",
    "text_df.loc[text_df.shape[0]] = [\"News_13\", None]\n",
    "text_df.loc[text_df.shape[0]] = [\"News_14\", None]\n",
    "print(text_df.shape)\n",
    "display(text_df.head(2))\n",
    "\n",
    "for i in range(1,15):\n",
    "    news_file=open(\"news_\"+str(i)+\".txt\",\"r\")\n",
    "    news_text=\"\"\n",
    "    for line in news_file:\n",
    "        line=line.strip()\n",
    "        line=line.replace(\"\\n\",\"\")+\" \"\n",
    "        news_text+=line\n",
    "    text_df.at[i-1,'text'] = news_text\n",
    "\n",
    "print(text_df.shape)\n",
    "display(text_df.head(4))"
   ]
  },
  {
   "cell_type": "markdown",
   "metadata": {},
   "source": [
    "**Seperating the train and test data**"
   ]
  },
  {
   "cell_type": "code",
   "execution_count": 2,
   "metadata": {},
   "outputs": [],
   "source": [
    "X_train = text_df[\"text\"][:11]\n",
    "X_test = text_df[\"text\"][11:]\n",
    "y_train = text_df[\"Sentiment\"][:11]\n",
    "y_test = text_df[\"Sentiment\"][11:]"
   ]
  },
  {
   "cell_type": "code",
   "execution_count": 3,
   "metadata": {},
   "outputs": [
    {
     "name": "stdout",
     "output_type": "stream",
     "text": [
      "X_train:  (11,)\n",
      "X_test: (3,)\n"
     ]
    }
   ],
   "source": [
    "print(\"X_train: \", X_train.shape)\n",
    "print(\"X_test:\", X_test.shape)"
   ]
  },
  {
   "cell_type": "markdown",
   "metadata": {},
   "source": [
    "**Applying the Count Vectorizer**"
   ]
  },
  {
   "cell_type": "code",
   "execution_count": 4,
   "metadata": {},
   "outputs": [],
   "source": [
    "from sklearn.feature_extraction.text import CountVectorizer\n",
    "vectorizer = CountVectorizer()\n",
    "X_train =vectorizer.fit_transform(X_train).toarray()\n",
    "X_test =vectorizer.transform(X_test).toarray()"
   ]
  },
  {
   "cell_type": "code",
   "execution_count": 5,
   "metadata": {},
   "outputs": [],
   "source": [
    "from sklearn.preprocessing import LabelEncoder\n",
    "le = LabelEncoder()\n",
    "y_train = le.fit_transform(y_train)"
   ]
  },
  {
   "cell_type": "code",
   "execution_count": 23,
   "metadata": {},
   "outputs": [
    {
     "name": "stdout",
     "output_type": "stream",
     "text": [
      "X_train Shape:  (11, 2)\n",
      "X_test Shape:  (3, 2)\n"
     ]
    }
   ],
   "source": [
    "print(\"X_train Shape: \", X_train.shape)\n",
    "print(\"X_test Shape: \", X_test.shape)"
   ]
  },
  {
   "cell_type": "markdown",
   "metadata": {},
   "source": [
    "**Applying the Naive Bayse**"
   ]
  },
  {
   "cell_type": "code",
   "execution_count": 7,
   "metadata": {},
   "outputs": [
    {
     "name": "stdout",
     "output_type": "stream",
     "text": [
      "Prediction:  ['neg', 'neg', 'neg']\n"
     ]
    }
   ],
   "source": [
    "from sklearn.naive_bayes import GaussianNB\n",
    "GNB = GaussianNB()\n",
    "GNB.fit(X_train, y_train)\n",
    "y_pre = GNB.predict(X_test)\n",
    "print(\"Prediction: \", [le.classes_[i] for i in y_pre])"
   ]
  },
  {
   "cell_type": "markdown",
   "metadata": {},
   "source": [
    "# Postive and negative txt files Part2"
   ]
  },
  {
   "cell_type": "code",
   "execution_count": 8,
   "metadata": {},
   "outputs": [],
   "source": [
    "list_of_pos = []\n",
    "file = open(\"positivewords.txt\", \"r\")\n",
    "\n",
    "for f in file.readlines():\n",
    "    list_of_pos.append(f[:-1])\n",
    "    \n",
    "list_of_neg = []\n",
    "file = open(\"negativewords.txt\", \"r\")\n",
    "\n",
    "for f in file.readlines():\n",
    "    list_of_neg.append(f[:-1])"
   ]
  },
  {
   "cell_type": "code",
   "execution_count": 27,
   "metadata": {},
   "outputs": [
    {
     "name": "stdout",
     "output_type": "stream",
     "text": [
      "Positive words list: ['powerhouse', 'fast', 'scalable', 'inexpensive', 'surge', 'ahead', 'wealth', 'surpassed', 'dominating', 'reusable', 'trillionaire', 'rally', 'richer', 'blasted', 'rose', 'billions', 'paid']\n",
      "\n",
      "Negative words list: ['fallen', 'bubble', 'spat', 'jammed', 'costs', 'fell', 'mulling', 'u-turn', 'concerns', 'fledgling', 'feud', 'battle', 'problems', 'tiny', 'donation', 'challenging', 'halts', 'zero', 'cryptic', 'debate', 'drop', 'risky', 'risk', 'drop', 'tax', 'taxes', 'hoarding', 'sold', 'error', 'outage']\n"
     ]
    }
   ],
   "source": [
    "print(\"Positive words list:\", list_of_pos)\n",
    "print()\n",
    "print(\"Negative words list:\", list_of_neg)"
   ]
  },
  {
   "cell_type": "markdown",
   "metadata": {},
   "source": [
    " **Frequency Distribution**"
   ]
  },
  {
   "cell_type": "code",
   "execution_count": 9,
   "metadata": {},
   "outputs": [
    {
     "name": "stdout",
     "output_type": "stream",
     "text": [
      "{0: {'tesla': 5, 'elon': 2, 'musk': 6, 'says': 1, 'company': 5, 'headquarters': 4, 'will': 3, 'move': 7, 'to': 13, 'texas': 7, 'has': 4, 'announced': 3, 'it': 3, 'its': 6, 'from': 7, 'california': 9, 'chief': 1, 'executive': 1, 'the': 12, 'at': 3, 'electric': 1, \"carmaker's\": 1, 'annual': 1, \"shareholders'\": 1, 'meeting': 1, 'in': 9, 'austin': 3, 'mr': 3, 'had': 4, 'fallen': 1, 'out': 1, 'with': 3, 'local': 2, 'politicians': 2, 'alameda': 1, 'county': 1, 'location': 1, 'of': 5, 'a': 6, 'key': 1, 'factory': 3, 'over': 1, 'covid': 1, 'response': 1, 'he': 6, 'gave': 1, 'several': 1, 'reasons': 1, 'for': 3, 'telling': 1, 'shareholders': 2, 'californian': 1, 'fremont': 2, 'was': 4, '\"jammed\"': 1, 'also': 3, 'difficult': 1, 'place': 1, 'his': 3, 'employees': 1, 'find': 1, 'affordable': 1, 'housing': 1, 'told': 1, '\"there\\'s': 1, 'limit': 1, 'how': 1, 'big': 1, 'you': 1, 'can': 1, 'scale': 1, 'bay': 1, 'area': 1, 'our': 1, 'is': 4, 'like': 1, 'five': 1, 'minutes': 2, 'airport': 1, '15': 1, 'downtown\"': 1, 'said': 3, 'billionaire': 1, 'technology': 2, 'entrepreneur': 1, 'an': 1, 'fractious': 1, 'relationship': 1, 'times': 1, 'may': 1, 'high': 1, 'profile': 1, 'spat': 1, 'after': 1, 'ordered': 1, 'keep': 1, \"tesla's\": 2, 'plant': 2, 'closed': 1, 'tweeted': 1, '\"tesla': 1, 'now': 2, 'hq': 1, 'and': 6, 'future': 1, 'programs': 1, 'texas/nevada': 1, 'immediately\"': 1, 'however': 1, 'not': 3, 'been': 1, 'confirmed': 1, 'until': 1, 'despite': 1, 'moving': 2, 'that': 1, 'planned': 1, 'increase': 1, 'output': 1, 'nevada': 1, 'factories': 1, 'by': 1, '50%': 1, '\"this': 1, 'matter': 1, 'sort': 1, 'leaving': 1, 'california\"': 1, 'first': 1, '2020': 1, 'tech': 1, 'powerhouse': 1, 'oracle': 1, 'silicon': 1, 'valley': 1, 'firm': 1, 'hp': 1, 'carmaker': 1, 'toyota': 1, 'have': 1, 'moved': 2, 'their': 1, 'us': 1, 'stronger': 1, 'labour': 2, 'laws': 1, 'higher': 1, 'living': 1, 'costs': 1, 'taxes': 1, 'than': 1, 'other': 1, 'states': 1, 'while': 1, 'known': 1, 'cheaper': 1, 'less': 1, 'stringent': 1, 'regulation': 1, 'home': 1, 'end': 1, 'last': 1, 'year': 1, 'focus': 1, 'on': 1, 'new': 1, 'car': 1, 'manufacturing': 1, 'there': 1, 'spacex': 1, 'rocket': 1, 'launch': 1, 'site': 1, 'southern': 1, 'tip': 1}, 1: {'elon': 2, 'musk': 4, 'brings': 1, 'shiba': 5, 'inu': 4, 'back': 1, 'to': 7, 'earth': 1, '-': 2, 'dogecoin': 4, 'is': 2, 'the': 17, 'only': 1, 'meme': 4, 'token': 2, \"he's\": 1, 'betting': 1, 'on': 6, 'tech': 1, 'billionaire': 1, \"musk's\": 1, 'tweets': 1, 'about': 1, 'his': 2, 'pet': 1, 'dog': 1, 'floki': 1, 'may': 2, 'have': 2, 'been': 2, 'driving': 1, 'force': 1, 'behind': 1, 'coin': 3, \"inu's\": 1, 'rally': 2, 'in': 4, 'past': 1, 'but': 2, 'this': 1, 'time': 2, 'around': 1, 'script': 1, 'flipped': 1, 'itself': 1, 'when': 1, 'revealed': 1, 'he': 1, \"doesn't\": 2, 'actually': 1, 'own': 1, 'any': 1, 'shib': 2, 'tokens': 2, 'cryptocurrency': 4, 'was': 2, 'its': 2, 'way': 1, \"'to\": 1, \"moon'on\": 1, 'october': 3, '24': 1, 'it': 1, 'rose': 1, 'by': 3, '50%': 1, 'become': 1, '11th': 1, 'biggest': 1, 'market': 2, 'however': 1, 'one': 1, 'of': 3, 'twitter': 1, 'accounts': 1, 'made': 1, 'mistake': 1, 'asking': 1, 'how': 1, 'many': 1, 'are': 1, 'kitty': 1, 'answer': 1, 'which': 1, 'a': 3, 'clear': 1, 'and': 3, 'definitive': 1, '\"none\"': 1, 'has': 2, 'slipped': 1, 'becoming': 2, '13th': 1, 'largest': 1, 'cap': 1, 'since': 2, 'then': 1, 'at': 1, '1230': 1, 'pm': 1, 'indian': 1, 'standard': 1, '(ist)': 1, '25': 1, 'down': 1, '183': 1, 'percent': 1, 'recent': 2, 'dip': 1, 'halted': 1, 'most': 1, 'rise': 1, '15': 1, 'for': 1, 'if': 1, \"there's\": 1, 'bet': 1, \"it's\": 1, 'according': 1, 'him': 1, 'need': 1, 'be': 2, 'another': 1, \"'smart\": 1, \"contract'\": 1, 'crypto': 1, 'space': 1, 'minting': 1, 'nfts': 1, 'instead': 1, 'should': 1, 'working': 1, 'towards': 1, 'medium': 1, 'exchange': 1, 'fast': 1, 'scalable': 1, 'inexpensive': 1}, 2: {'elon': 1, 'musk': 2, 'made': 1, '$36': 1, 'billion': 3, 'in': 1, 'a': 4, 'single': 1, 'day': 1, 'on': 5, \"tesla's\": 3, 'historic': 1, 'stock': 2, 'surge': 1, 'tesla': 2, \"boss's\": 1, 'wealth': 4, 'beats': 1, 'gdp': 1, 'of': 8, 'several': 1, 'countries': 2, 'and': 3, 'lots': 1, 'companies': 1, 'the': 6, 'personal': 1, 'tsla': 1, '+371%': 1, 'chief': 1, 'executive': 1, 'officer': 1, 'shot': 1, 'up': 1, 'by': 2, '$362': 1, 'monday': 3, 'according': 1, 'to': 3, 'bloomberg': 1, 'billionaire': 1, 'index': 1, \"he's\": 2, 'now': 1, 'comfortably': 1, 'ahead': 1, 'amazon': 1, 'amzn': 1, '-053%': 1, 'ceo': 1, 'jeff': 1, \"bezos's\": 1, '$193': 1, 'pile': 1, 'that': 2, 'dropped': 1, '$751': 1, 'million': 1, 'as': 2, 'shares': 1, 'e-commerce': 1, 'giant': 1, 'fell': 1, '05%': 1, 'valuation': 1, 'surged': 1, 'past': 1, '$1': 1, 'trillion': 1, 'with': 1, 'closing': 1, 'at': 1, 'record': 1, 'high': 1, '$102486': 1, 'after': 2, 'hertz': 2, 'htz': 1, 'announced': 1, 'plans': 1, 'order': 1, '100000': 1, 'vehicles': 1, 'morgan': 1, 'stanley': 1, 'analyst': 1, 'lifted': 1, 'his': 2, 'forecast': 1, 'auto': 2, 'maker': 1, 'emerged': 1, 'from': 1, 'bankruptcy': 1, 'this': 1, 'summer': 1, 'filing': 1, 'more': 1, 'than': 1, 'year': 1, 'ago': 1, 'due': 1, 'pandemic': 1, 'for': 2, 'one-day': 1, 'gain': 1, 'surpassed': 1, 'gross': 1, 'domestic': 1, 'products': 1, 'entire': 1, 'including': 1, 'estonia': 1, 'latvia': 1, 'bolivia': 1, 'also': 1, 'dominating': 1, 'rival': 1, 'makers': 1, 'course': 1}, 3: {'elon': 3, \"musk's\": 1, 'tesla': 4, 'may': 2, 'be': 1, 'ready': 1, 'for': 3, 'a': 3, 'second': 1, 'innings': 1, 'in': 8, 'cryptocurrency': 2, 'payments': 2, 'the': 8, 'electric': 2, 'car': 2, 'company': 3, 'owned': 1, 'by': 1, 'billionaire': 1, 'musk': 2, 'is': 1, 'mulling': 1, 'over': 2, 'possibly': 1, 'accepting': 1, 'as': 2, 'payment': 2, 'again': 1, 'it': 3, 'had': 1, 'temporarily': 1, 'opened': 1, 'doors': 1, 'to': 3, 'bitcoin': 3, 'early': 1, 'year': 1, 'before': 1, 'taking': 1, 'u-turn': 1, 'energy': 1, 'consumption': 1, 'concerns': 1, 'maker': 1, 'and': 3, 'its': 3, 'founder': 1, \"don't\": 1, 'seem': 1, 'have': 1, 'given': 1, 'up': 1, 'on': 1, 'crypto': 1, 'just': 1, 'yet': 1, 'third-quarter': 1, 'earnings': 1, 'release': 1, 'today': 1, 'hinted': 1, 'that': 2, 'could': 1, 'start': 1, 'transacting': 1, 'cryptocurrencies': 1, 'products': 2, 'services': 1, 'future': 1, 'also': 1, 'said': 1, 'nine': 1, 'months': 2, 'ended': 2, 'september': 1, '30': 1, 'has': 1, 'bought': 1, 'an': 1, 'aggregate': 1, 'of': 4, '$15': 1, 'billion': 1, 'worth': 1, '\"in': 1, 'addition': 1, 'during': 1, 'three': 1, 'march': 1, '31': 1, '2021': 1, 'we': 1, 'accepted': 1, 'sales': 1, 'certain': 1, 'our': 1, 'specified': 1, 'regions': 1, 'subject': 1, 'applicable': 1, 'laws': 1, 'suspended': 1, 'this': 1, 'practice': 1, '2021\"': 1, 'added': 1}, 4: {'spacex': 3, 'could': 4, 'make': 2, 'elon': 3, 'musk': 4, \"world's\": 3, 'first': 3, 'trillionaire': 3, 'says': 1, 'morgan': 2, 'stanley': 2, 'most': 3, 'of': 5, 'richest': 2, \"person's\": 1, 'fortune': 2, 'so': 1, 'far': 1, 'has': 4, 'come': 1, 'from': 3, 'electric': 2, 'car': 2, 'company': 4, 'tesla': 3, 'the': 12, 'person': 1, 'with': 1, 'an': 2, 'estimated': 1, '$241bn': 1, 'become': 2, 'investment': 1, 'bank': 1, 'predicted': 1, 'analysts': 1, 'at': 1, 'forecast': 1, 'that': 2, 'who': 1, 'made': 1, 'his': 2, 'wealth': 1, 'much': 1, 'more': 1, 'money': 1, 'fledgling': 1, 'space': 2, 'exploration': 1, 'business': 1, 'analyst': 1, 'adam': 1, 'jonas': 2, 'said': 3, 'founded': 1, 'in': 4, '2002': 1, 'was': 2, '\"challenging': 1, 'any': 2, 'preconceived': 1, 'notion': 1, 'what': 1, 'possible': 2, 'and': 4, 'timeframe': 1, 'terms': 1, 'rockets': 2, 'launch': 1, 'vehicles': 1, 'supporting': 1, 'infrastructure\"': 1, 'he': 1, 'added': 1, '\"more': 1, 'than': 1, 'one': 1, 'client': 1, 'told': 1, 'us': 1, 'if': 1, 'were': 1, 'to': 3, '': 1, 'it': 1, \"won't\": 1, 'be': 2, 'because': 1, 'others': 1, 'have': 1, 'may': 1, 'eventually': 1, 'highly': 1, 'valued': 1, 'world': 1, 'â€“': 1, 'industry\"': 1, \"spacex's\": 1, 'starship': 1, 'reusable': 1, 'take': 1, 'people': 1, 'cargo': 1, 'moon': 1, 'mars': 1, 'had': 1, 'potential': 1, 'transform': 1, 'investor': 1, 'expectations': 1, 'around': 1, 'industry': 1}, 5: {'elon': 2, \"musk's\": 1, 'feud': 1, 'with': 2, 'biden': 5, 'administration': 3, 'escalates': 1, \"tesla's\": 2, 'battle': 1, 'the': 16, 'escalated': 1, 'after': 1, 'ceo': 1, 'musk': 2, 'called': 1, 'president': 2, 'joe': 1, 'a': 6, '\"puppet\"': 1, 'for': 3, 'united': 1, 'auto': 2, 'workers': 1, 'in': 5, 'sunday': 1, 'tweet': 2, 'was': 1, 'replying': 1, 'to': 3, 'outlining': 1, 'electric-vehicle': 1, 'purchase': 2, 'tax': 4, 'credits': 3, 'proposed': 1, \"president's\": 1, 'infrastructure': 1, 'bill': 2, 'includes': 1, 'an': 2, 'extra': 1, '$4500': 1, 'evs': 2, 'assembled': 2, 'by': 3, 'unionized': 2, 'labor': 1, 'lower': 1, 'cost': 1, 'of': 2, 'ev': 3, 'giving': 1, 'buyer': 1, 'deduction': 1, 'right': 1, 'now': 1, 'tesla': 3, 'vehicles': 2, 'no': 1, 'longer': 1, 'qualify': 1, 'federal': 1, 'plant': 1, 'fremont': 1, 'calif': 1, \"isn't\": 1, 'so': 1, 'proposal': 1, 'could': 1, 'give': 1, 'from': 1, 'other': 1, 'makers': 1, '-': 2, 'including': 1, 'ford': 2, 'motor': 1, '(f)': 1, 'and': 3, 'general': 1, 'motors': 1, '(gm)': 1, 'pricing': 1, 'advantage': 1, 'depending': 1, 'on': 1, 'where': 1, 'are': 1, 'problems': 1, 'between': 1, 'began': 1, 'when': 2, \"didn't\": 1, 'invite': 1, 'largest': 1, 'us': 2, 'producer': 1, 'white': 1, 'house': 1, 'he': 1, 'announced': 1, 'his': 1, 'goals': 1, 'early': 1, 'august': 1, 'wants': 1, '50%': 1, 'cars': 1, 'sold': 1, 'be': 1, 'all-electric': 1, '2030': 1, 'gm': 1, 'uaw': 1, 'attended': 1, 'ceremony': 1}, 6: {'the': 20, 'un': 3, 'says': 2, '$6b': 1, 'from': 2, \"world's\": 3, 'billionaires': 3, 'could': 5, 'solve': 2, 'a': 4, 'hunger': 2, 'crisis': 2, 'elon': 2, 'musk': 6, 'he': 4, 'will': 2, 'sell': 2, 'tesla': 4, 'stock': 4, 'and': 5, 'donate': 2, 'proceeds': 2, 'if': 4, 'can': 1, 'prove': 2, 'that': 5, 'billionaire': 1, 'said': 2, \"he'd\": 1, 'just': 1, 'tiny': 1, 'percentage': 1, 'of': 7, 'his': 2, 'wealth': 2, 'save': 1, 'tens': 1, 'millions': 1, 'lives': 1, 'was': 1, 'responding': 1, 'to': 3, 'comments': 1, 'by': 2, 'david': 1, 'beasley': 1, 'director': 1, \"un's\": 1, 'world': 2, 'food': 2, 'programme': 2, 'who': 2, 'told': 1, \"cnn's\": 1, '\"connect': 1, 'world\"': 1, 'last': 1, 'week': 1, '$6': 2, 'billion': 5, 'donation': 2, 'such': 2, 'as': 1, 'jeff': 1, 'bezos': 2, 'help': 1, '42': 1, 'million': 1, 'people': 1, 'were': 1, '\"literally': 1, 'going': 1, 'die': 1, 'we': 1, \"don't\": 1, 'reach': 1, 'them\"': 1, 'is': 2, 'richest': 1, 'man': 1, 'recently': 1, 'became': 1, 'first': 1, 'person': 2, 'in': 2, 'bloomberg': 1, 'index': 2, 'ever': 1, 'have': 1, 'an': 1, 'estimated': 1, 'net': 3, 'worth': 3, 'north': 1, '$300': 1, 'currently': 1, 'lists': 1, \"ceo's\": 1, 'at': 2, '$311': 1, 'meaning': 1, 'would': 4, 'be': 2, '2%': 1, 'still': 1, 'leave': 1, 'him': 1, 'besting': 1, 'second-richest': 1, 'least': 1, '$100': 1, 'both': 1, \"men's\": 1, 'consists': 1, 'largely': 1, 'companies': 1, 'they': 1, 'founded': 1, 'but': 1, 'challenging': 1, 'claim': 1, 'specific': 1, 'amount': 1, 'saying': 1, 'on': 1, 'twitter': 1, 'show': 1, 'its': 1, 'math': 1, 'then': 1, '\"sell': 1, 'right': 1, 'now': 1, 'do': 1, 'it\"': 1, 'also': 1, 'demanded': 1, 'transparency': 1, 'about': 1, 'how': 1, 'money': 1, 'spent': 1}, 7: {'\"no': 1, 'contract': 3, 'signed': 3, 'with': 3, 'hertz\"': 1, 'elon': 2, \"musk's\": 1, 'tweet': 1, 'halts': 1, \"tesla's\": 3, 'rally': 1, 'shares': 2, 'fell': 2, 'four': 2, 'per': 2, 'cent': 2, 'in': 6, 'early': 3, 'trading': 2, 'on': 6, 'tuesday': 2, 'after': 3, 'a': 7, 'steep': 2, 'jump': 2, 'following': 2, 'the': 9, 'news': 2, 'of': 4, 'biggest-ever': 2, 'order': 2, '-': 4, '100000': 2, 'electric': 3, 'cars': 2, 'for': 5, 'hertz': 5, 'oct': 2, '25': 2, 'which': 3, 'helped': 2, 'tesla': 5, 'breach': 2, '$1': 2, 'trillion': 2, 'market': 3, 'capitalization': 2, \"inc's\": 1, 'top': 1, 'boss': 1, 'musk': 2, 'said': 2, 'company': 1, 'had': 2, 'not': 2, 'more': 1, 'than': 1, 'week': 1, 'car': 1, 'rental': 2, 'firm': 1, 'announced': 1, 'massive': 1, 'deal': 2, 'carmaker': 1, 'tweeted': 1, 'late': 1, 'monday': 1, '\"if': 1, 'any': 1, 'this': 1, 'is': 1, 'based': 1, \"i'd\": 1, 'like': 1, 'to': 2, 'emphasize': 1, 'that': 2, 'no': 1, 'has': 2, 'been': 1, 'yet\"': 1, '\"hertz': 1, 'zero': 1, 'effect': 1, 'our': 2, 'economics\"': 1, 'did': 1, 'immediately': 1, 'respond': 1, 'request': 1, 'comment': 1, 'however': 1, 'statement': 1, 'deliveries': 1, 'teslas': 2, 'already': 1, 'started': 1, '\"we': 1, 'are': 1, 'seeing': 1, 'very': 1, 'strong': 1, 'demand': 2, 'fleet': 1, 'reflects': 1, 'vehicles\"': 1}, 8: {'cryptic': 1, 'elon': 2, 'musk': 6, 'post': 2, 'goes': 1, 'viral': 1, 'in': 6, 'china': 1, 'amid': 1, 'clash': 2, 'with': 3, 'world': 3, 'food': 3, 'program': 3, 'more': 4, 'commonly': 1, 'known': 1, 'for': 1, 'sparking': 1, 'debate': 2, 'on': 8, 'twitter': 2, 'was': 1, 'the': 14, 'centre': 1, 'of': 6, 'speculation': 1, 'weibo': 4, 'tuesday': 3, 'after': 1, 'tesla': 2, 'ceo': 1, 'posted': 1, 'a': 4, 'poem': 3, 'chinese': 2, 'site': 1, 'that': 3, 'some': 1, 'took': 1, 'to': 5, 'be': 1, 'an': 2, 'extension': 1, 'his': 3, \"un's\": 1, 'and': 4, '(wfp)': 1, 'head': 1, 'david': 1, 'beasley': 2, 'have': 1, 'been': 1, 'engaging': 1, 'heated': 1, 'since': 1, 'last': 1, 'week': 1, 'challenged': 1, 'billionaires': 1, 'give': 1, 'their': 1, 'wealth': 1, 'end': 1, 'hunger': 1, 'countered': 1, 'by': 1, 'saying': 1, \"he'd\": 1, 'sell': 2, '$6': 2, 'billion': 2, 'stock': 2, 'donate': 1, 'it': 2, 'wfp': 2, 'provided': 1, 'organization': 2, 'disclosed': 1, 'information': 1, 'about': 4, 'how': 3, 'spent': 1, 'its': 1, 'money': 1, 'official': 1, 'accounts': 1, 'wrote': 1, 'english': 1, '\"humankind\"': 1, 'before': 1, 'posting': 1, 'abbreviated': 1, 'version': 1, \"'seven\": 1, 'steps': 1, \"verse'\": 1, 'highly': 1, 'allegorical': 1, 'describes': 1, 'relationship': 1, 'between': 1, 'two': 1, 'brothers': 1, 'from': 1, 'royal': 1, 'family': 1, 'during': 1, \"china's\": 2, 'warring': 1, 'three': 1, 'kingdoms': 1, 'period': 1, 'is': 1, 'taught': 1, 'all': 1, 'primary': 1, 'schools': 1, 'importance': 1, 'getting': 1, 'along': 1, 'followed': 1, 'restating': 1, 'earlier': 1, 'tweets': 1, 'if': 1, 'can': 1, '\"accurately': 1, 'explain': 1, 'than': 1, 'will': 2, 'solve': 1, 'global': 1, 'famine': 1, 'problem': 1, 'i': 1, 'immediately': 1, 'teslaâ€™s': 1, 'then': 1, 'donate\"': 1, 'discussions': 1, 'interpret': 1, \"musk's\": 1, 'posts': 1, 'trended': 1, 'heavily': 1, 'receiving': 1, 'over': 1, '100': 1, 'million': 1, 'views': 1}, 9: {'elon': 2, 'musk': 1, 'is': 2, 'now': 3, 'three': 2, 'times': 1, 'richer': 1, 'than': 1, 'warren': 2, 'buffett': 3, 'tesla': 2, \"inc's\": 2, 'latest': 1, 'rally': 1, 'has': 3, 'blasted': 1, 'co-founder': 1, \"musk's\": 3, 'wealth': 2, 'past': 2, 'a': 7, 'new': 2, 'milestone': 1, 'it': 1, 'eclipses': 1, 'famed': 1, 'investor': 3, \"buffett's\": 2, 'fortune': 2, 'by': 2, 'factor': 1, 'of': 7, 'net': 3, 'worth': 4, 'rose': 1, '$24': 1, 'billion': 7, 'to': 4, '$3351': 1, 'monday': 1, 'as': 3, 'the': 11, 'electric': 1, \"automaker's\": 1, 'shares': 1, 'jumped': 1, '85%': 1, 'in': 3, 'york': 1, 'that': 2, 'widened': 1, 'his': 6, 'lead': 1, 'over': 2, 'amazoncom': 1, 'jeff': 1, 'bezos': 1, \"world's\": 1, 'wealthiest': 1, 'person': 1, '$143': 1, 'according': 1, 'bloomberg': 1, 'billionaires': 1, 'index': 1, 'chairman': 1, 'berkshire': 2, 'hathaway': 1, 'inc': 1, 'ranks': 2, '10th': 1, 'with': 2, '$1041': 1, 'up': 2, 'and': 2, 'down': 1, \"tesla's\": 1, 'shareholder': 2, 'roster': 1, 'fortunes': 1, 'are': 1, 'ballooning': 1, 'singapore-based': 1, 'retail': 1, 'trader': 1, 'leo': 1, 'koguan': 1, 'emerged': 1, 'last': 1, 'week': 1, \"company's\": 1, 'third-biggest': 1, 'individual': 1, 'rocketing': 1, 'him': 1, 'valued': 1, 'at': 1, '$121': 1, 'larry': 1, 'ellison': 1, 'who': 1, 'spent': 1, '44': 1, 'years': 2, 'building': 1, 'software': 1, 'maker': 1, 'oracle': 2, 'corp': 1, 'only': 1, 'been': 1, 'big': 1, 'since': 1, '2018': 1, 'but': 1, 'stake': 1, '$181': 1, 'almost': 1, 'quarter': 1, 'value': 3, 'holding': 1, 'prodigious': 1, 'philanthropy': 1, 'helps': 1, 'explain': 1, 'some': 1, 'growing': 1, 'gap': 1, 'between': 1, 'donated': 1, 'portion': 1, 'stock': 1, 'every': 1, 'year': 1, 'various': 1, 'charitable': 1, 'organizations': 1, 'including': 1, 'bill': 1, '&': 1, 'melinda': 1, 'gates': 1, 'foundation': 1, '91': 1, 'said': 1, 'june': 1, 'gifts': 1, '16': 1, 'totaled': 1, '$41': 1}, 10: {'elon': 1, \"musk's\": 1, '\"fanboy\"': 1, 'bet': 2, 'nearly': 1, 'everything': 1, 'on': 5, 'tesla': 12, '-': 3, 'and': 10, 'made': 1, 'billions': 1, 'in': 6, 'march': 2, '2020': 1, 'when': 1, 'equity': 1, 'markets': 1, 'tumbled': 1, 'margin': 2, 'calls': 1, 'loomed': 1, 'billionaire': 1, 'leo': 1, 'koguan': 7, 'was': 2, 'forced': 1, 'to': 9, 'sell': 1, 'much': 1, 'of': 12, 'his': 5, 'stock': 4, 'portfolio': 2, 'including': 1, 'the': 9, 'vast': 1, 'majority': 1, '12': 1, 'million': 3, 'shares': 7, 'he': 4, 'then': 1, 'owned': 1, 'amid': 1, 'early': 1, 'pandemic': 1, 'chaos': 1, 'decided': 1, 'act': 1, 'says': 3, 'sold': 1, 'rest': 1, 'holdings': 3, '(including': 1, 'baidu': 1, 'nvidia': 1, 'china': 1, 'mobile': 1, 'nio)': 1, 'used': 1, 'proceeds': 1, 'buy': 1, 'long-term': 1, 'call': 3, 'options': 3, 'effect': 1, 'betting': 1, 'house': 1, 'it': 3, 'a': 6, 'risky': 1, 'move': 1, 'but': 1, 'paid': 1, 'off': 1, 'have': 1, 'skyrocketed': 1, 'more': 1, 'than': 2, '1440%': 1, 'since': 1, '1': 1, \"he's\": 2, 'plowed': 1, 'trading': 1, 'profits': 1, 'back': 2, 'into': 2, 'that': 3, 'today': 1, '100%': 1, 'consists': 1, 'according': 1, 'bank': 1, 'documents': 1, 'shared': 1, 'with': 1, 'forbes': 2, 'owns': 2, '63': 1, 'over': 1, '18': 1, 'in-the-money': 1, 'as': 2, 'sep': 1, '24': 1, '\"it\\'s': 1, 'for': 2, '[the]': 1, 'long': 1, 'term': 2, 'you': 1, 'never': 1, 'short': 1, 'tesla\"': 1, 'investment': 1, 'thesis': 1, '\"and': 1, 'i': 1, 'believe': 1, 'green': 1, 'technology\"': 1, 'very': 1, 'publicly': 1, 'insists': 1, 'twitter': 1, 'linkedin': 1, 'third': 1, 'largest': 1, 'individual': 1, 'shareholder': 1, 'company': 3, 'did': 1, 'not': 2, 'respond': 1, 'requests': 1, 'comment': 1, 'though': 1, 'spokesman': 1, 'martin': 1, 'viecha': 1, 'appears': 1, \"koguan's\": 2, 'claim': 1, 'september': 1, 'tweet': 1, 'non-company': 1, 'director': 1, 'who': 1, 'less': 1, '5%': 1, 'outstanding': 1, 'does': 1, 'appear': 1, 'any': 1, 'teslaâ€™s': 1, 'securities': 1, 'exchange': 1, 'commission': 1, 'filings': 1, 'given': 1, 'those': 1, 'stake': 1, 'privately': 1, 'held': 1, 'shi': 1, 'international': 1, 'estimates': 1, 'fortune': 1, 'be': 1, '$86': 1, 'billion;': 1, 'number': 2, 'reflects': 1, '20%': 1, 'discount': 1, 'take': 1, 'account': 2, 'an': 1, 'undisclosed': 1, 'holds': 1}, 11: {'tesla': 4, 'shares': 4, 'drop': 1, 'more': 1, 'than': 1, '4%': 1, 'after': 2, 'elon': 2, \"musk's\": 2, 'twitter': 3, 'poll': 3, 'electric': 1, 'vehicle': 1, 'maker': 1, \"tesla's\": 1, 'fell': 1, 'as': 3, 'much': 1, '45': 1, 'per': 6, 'cent': 6, 'at': 5, 'the': 15, 'start': 1, 'of': 13, 'trading': 3, 'on': 7, 'monday': 2, 'followers': 2, 'largely': 1, 'voted': 1, 'in': 8, 'favour': 1, \"company's\": 1, 'billionaire': 1, 'chief': 1, 'executive': 1, 'and': 5, 'co-founder': 1, 'selling': 2, '10': 4, 'his': 5, 'holdings': 2, 'stock': 5, 'fifth-largest': 1, 'publicly': 1, 'traded': 1, 'company': 1, 'us': 2, 'dropped': 1, 'nearly': 3, '7': 1, 'premarket': 1, 'was': 2, '$116796': 1, '950am': 1, 'new': 1, 'york': 1, 'time': 3, 'mr': 4, 'musk': 4, 'had': 2, 'asked': 1, '628': 1, 'million': 2, 'saturday': 1, 'to': 6, 'vote': 1, 'a': 7, 'whether': 1, 'he': 4, 'should': 2, 'sell': 4, 'voting': 1, 'closed': 1, 'sunday': 1, '\"much': 1, 'is': 4, 'made': 1, 'lately': 1, 'unrealised': 2, 'gains': 2, 'being': 1, 'means': 1, 'tax': 3, 'avoidance': 1, 'so': 3, 'i': 3, 'propose': 1, 'my': 1, 'stock\"': 2, 'said': 3, '\"i': 1, 'will': 4, 'abide': 1, 'by': 2, 'results': 1, 'this': 2, 'whichever': 1, 'way': 2, 'it': 1, 'goes\"': 1, 'june': 1, '30': 1, 'holds': 1, '1705': 1, 'valued': 1, 'almost': 1, '$200bn': 1, 'be': 2, 'worth': 1, '$20bn': 1, \"world's\": 1, 'richest': 1, 'person': 1, 'proposed': 2, 'move': 1, 'tweet': 1, 'citing': 1, 'discussions': 1, 'about': 1, 'wealthy': 1, 'people': 1, 'hoarding': 1, 'avoid': 1, 'paying': 1, 'taxes': 3, 'calling': 1, 'into': 1, 'question': 1, \"democrats'\": 1, '\"billionaires\\'': 1, 'tax\"': 1, 'which': 1, 'seeks': 1, 'contributions': 1, 'from': 2, \"america's\": 1, 'most': 1, 'affluent': 1, 'taxing': 1, 'their': 1, '\"tradable': 1, 'assets\"': 1, 'expected': 1, 'help': 1, 'fund': 1, 'president': 1, 'joe': 1, \"biden's\": 1, 'ambitious': 1, 'social': 1, 'policy': 1, 'climate': 1, 'change': 1, 'legislation': 1, '\"note': 1, 'do': 1, 'not': 2, 'take': 1, 'cash': 1, 'salary': 1, 'or': 1, 'bonus': 1, 'anywhere': 1, 'only': 2, 'have': 2, 'thus': 1, 'for': 1, 'me': 1, 'pay': 2, 'personally': 1, '\"it': 1, 'seems': 2, 'that': 1, 'crowd': 1, 'thinks': 1, '[mr': 2, 'musk]': 2, 'some': 1, 'taxes\"': 1, 'neil': 1, 'campling': 1, 'co-head': 1, 'mirabaud': 1, \"securities'\": 1, 'global': 1, 'thematic': 1, 'group': 1, 'told': 1, 'national': 1, '\"last': 1, 'we': 2, 'checked': 1, 'were': 1, 'optional': 1, 'bill': 1, 'options': 1, 'over': 1, '$10bn': 1, 'due': 1, 'course': 1, 'anyhow': 1, 'whole': 1, 'thing': 1, 'theatrical': 1, 'stunt': 1, '\"as': 1, 'september': 1, 'although': 1, 'nobody': 1, 'listened': 1, \"'i\": 1, 'lot': 1, \"q4'\": 1, '': 1, 'here': 1, 'are': 1, 'sale': 1, 'imminent/likely\"': 1}, 12: {'elon': 6, 'musk': 5, 'will': 7, 'sell': 2, '10%': 3, 'of': 8, 'his': 3, 'tesla': 5, 'stock': 4, 'poll': 3, 'results': 1, 'this': 1, 'week': 1, 'be': 2, 'hugely': 1, 'interesting': 2, 'in': 3, 'regards': 1, 'to': 8, 'the': 11, 'market': 1, \"musk's\": 2, 'on': 2, 'whether': 1, 'stocks': 2, 'has': 4, 'come': 1, 'an': 2, 'end': 2, 'and': 2, 'answer': 1, 'is': 3, 'yes': 1, 'as': 2, '579%': 1, 'out': 3, 'over': 1, '35': 1, 'million': 2, 'votes': 1, 'supported': 1, 'idea': 1, 'according': 1, 'reuters': 3, \"tesla's\": 1, 'ceo': 1, 'some': 2, '23%': 1, 'stake': 1, 'company': 1, '(including': 1, 'options)': 1, \"company's\": 1, 'valuation': 1, 'recently': 1, 'exceeded': 1, '$1': 1, 'trillion': 1, 'billionaire': 1, 'reportedly': 1, 'needs': 1, 'cash': 1, 'pay': 2, 'taxes': 4, 'we': 2, 'understand': 1, 'he': 1, 'exercise': 1, 'options': 1, 'acquire': 1, 'shares': 4, 'at': 1, 'relatively': 1, 'low': 1, 'price': 1, 'but': 1, 'applied': 1, 'require': 1, 'selling': 1, 'part': 1, 'it': 2, 'have': 1, 'a': 2, 'higher': 1, 'number': 1, 'estimates': 1, 'that': 5, '1705': 1, '(as': 1, 'june': 1, '30)': 1, 'worth': 1, '$21': 1, 'billion': 1, 'guess': 1, 'enough': 1, 'any': 1, 'points': 1, 'also': 1, 'relocated': 1, 'from': 1, 'california': 1, 'texas': 1, 'which': 1, 'should': 1, 'lower': 1, 'overall': 1, '(texas': 1, 'no': 1, 'income': 1, 'tax)': 1, 'many': 1, 'small': 1, 'shareholders': 1, 'fans': 1, 'are': 1, 'afraid': 1, 'after': 1, 'announcement': 1, 'value': 1, 'their': 1, 'go': 1, 'down': 1, 'thing': 1, 'brother': 1, 'kimbal': 1, 'sold': 1, '88500': 1, 'friday': 1, 'about': 1, 'day': 1, 'before': 1}, 13: {'app': 4, 'outage': 5, 'locks': 1, 'hundreds': 2, 'of': 8, 'tesla': 4, 'drivers': 2, 'out': 2, 'cars': 2, 'dozen': 1, 'motorists': 1, 'report': 1, 'error': 2, 'as': 1, \"company's\": 2, 'ceo': 1, 'elon': 2, 'musk': 4, 'apologises': 1, 'on': 4, 'twitter': 1, 'were': 2, 'locked': 1, 'their': 2, 'at': 2, 'the': 8, 'start': 1, 'weekend': 1, 'after': 2, \"manufacturer's\": 1, 'mobile': 2, 'suffered': 1, 'an': 2, '-': 1, 'and': 3, 'dozens': 1, 'voiced': 1, 'complaints': 1, 'social': 1, 'media': 1, \"tesla's\": 1, 'chief': 1, 'executive': 1, 'said': 3, 'friday': 1, 'that': 2, 'application': 1, 'was': 4, 'coming': 2, 'back': 2, 'online': 2, 'server': 2, 'responding': 1, 'to': 3, 'a': 3, \"owner's\": 1, 'tweet': 1, 'who': 1, 'he': 1, 'experiencing': 1, '\"500': 1, 'error\"': 1, 'connect': 1, 'his': 1, 'model': 1, '3': 1, 'through': 1, 'ios': 1, 'in': 2, 'seoul': 1, 'south': 1, 'korea': 1, '\"should': 1, 'be': 1, 'now': 1, 'looks': 1, 'like': 1, 'we': 1, 'may': 1, 'have': 1, 'accidentally': 1, 'increased': 1, 'verbosity': 1, 'network': 1, 'traffic\"': 1, 'first': 1, 'reported': 2, 'by': 3, 'specialist': 1, 'electric': 1, 'vehicle': 1, 'website': 2, 'electrek': 1, 'which': 2, 'started': 1, 'receiving': 1, 'reports': 3, 'from': 3, 'owners': 1, 'us': 1, 'canada': 1, 'then': 1, 'europe': 1, 'asia': 1, 'about': 3, '500': 1, 'users': 1, 'they': 1, 'faced': 1, '440pm': 1, 'et': 2, '(940pm': 1, 'gmt)': 1, 'according': 1, 'monitoring': 1, 'downdetector': 1, 'tracks': 1, 'outages': 1, 'collating': 1, 'status': 1, 'series': 1, 'sources': 1, 'including': 1, 'user-submitted': 1, 'errors': 1, 'its': 1, 'platform': 1, 'there': 1, 'just': 1, 'over': 1, '60': 1, '920pm': 1}}\n"
     ]
    }
   ],
   "source": [
    "def wordListToFreqDict(wordlist):\n",
    "    wordfreq = [wordlist.count(p) for p in wordlist]\n",
    "    return dict(list(zip(wordlist,wordfreq)))\n",
    "\n",
    "wordFrequenciesPerArticle={}\n",
    "\n",
    "for i in range(0,text_df.shape[0]):\n",
    "    articleText=str(text_df.iloc[i]['text'].lower())\n",
    "    articleWordListUnCleaned=articleText.split()\n",
    "    articleWordListCleaned=[]\n",
    "    for word in articleWordListUnCleaned:\n",
    "        word=word.replace(\":\",\"\")\n",
    "        word=word.replace(\".\",\"\")\n",
    "        word=word.replace(\",\",\"\")\n",
    "        articleWordListCleaned.append(word)\n",
    "    wordFrequenciesPerArticle[i]=wordListToFreqDict(articleWordListCleaned)\n",
    "    #wordfreq=wordFrequenciesPerArticle[i]\n",
    "print(wordFrequenciesPerArticle)"
   ]
  },
  {
   "cell_type": "markdown",
   "metadata": {},
   "source": [
    "**Postive words proporation for each artical**"
   ]
  },
  {
   "cell_type": "code",
   "execution_count": 10,
   "metadata": {
    "colab": {
     "base_uri": "https://localhost:8080/"
    },
    "id": "DcH3uVn6-XBq",
    "outputId": "28d46c1f-6135-4ab9-b177-20738595e742"
   },
   "outputs": [
    {
     "name": "stdout",
     "output_type": "stream",
     "text": [
      "Positive proportion of file  1 :  0.09714285714285714\n",
      "Positive proportion of file  2 :  0.12318840579710146\n",
      "Positive proportion of file  3 :  0.14166666666666666\n",
      "Positive proportion of file  4 :  0.1588785046728972\n",
      "Positive proportion of file  5 :  0.15178571428571427\n",
      "Positive proportion of file  6 :  0.14655172413793102\n",
      "Positive proportion of file  7 :  0.11971830985915492\n",
      "Positive proportion of file  8 :  0.1588785046728972\n",
      "Positive proportion of file  9 :  0.11258278145695365\n",
      "Positive proportion of file  10 :  0.11333333333333333\n",
      "Positive proportion of file  11 :  0.09340659340659341\n",
      "Positive proportion of file  12 :  0.07727272727272727\n",
      "Positive proportion of file  13 :  0.12878787878787878\n",
      "Positive proportion of file  14 :  0.12878787878787878\n"
     ]
    }
   ],
   "source": [
    "pos_proportions = []\n",
    "for i in range(14):\n",
    "    proportion_p=len(list_of_pos) / len(list(wordFrequenciesPerArticle[i].keys()))\n",
    "    print(\"Positive proportion of file \", i + 1, \": \", proportion_p)\n",
    "    pos_proportions.append(proportion_p)"
   ]
  },
  {
   "cell_type": "markdown",
   "metadata": {},
   "source": [
    "**negative words proporation for each word in artical**"
   ]
  },
  {
   "cell_type": "code",
   "execution_count": 11,
   "metadata": {},
   "outputs": [
    {
     "name": "stdout",
     "output_type": "stream",
     "text": [
      "negative proportion of file  1 :  0.17142857142857143\n",
      "negative proportion of file  2 :  0.21739130434782608\n",
      "negative proportion of file  3 :  0.25\n",
      "negative proportion of file  4 :  0.2803738317757009\n",
      "negative proportion of file  5 :  0.26785714285714285\n",
      "negative proportion of file  6 :  0.25862068965517243\n",
      "negative proportion of file  7 :  0.2112676056338028\n",
      "negative proportion of file  8 :  0.2803738317757009\n",
      "negative proportion of file  9 :  0.1986754966887417\n",
      "negative proportion of file  10 :  0.2\n",
      "negative proportion of file  11 :  0.16483516483516483\n",
      "negative proportion of file  12 :  0.13636363636363635\n",
      "negative proportion of file  13 :  0.22727272727272727\n",
      "negative proportion of file  14 :  0.22727272727272727\n"
     ]
    }
   ],
   "source": [
    "neg_proportions = []\n",
    "for i in range(14):\n",
    "    proportion_n = len(list_of_neg) / len(list(wordFrequenciesPerArticle[i].keys()))\n",
    "    print(\"negative proportion of file \", i + 1, \": \", proportion_n)\n",
    "    neg_proportions.append(proportion_n)"
   ]
  },
  {
   "cell_type": "code",
   "execution_count": 12,
   "metadata": {},
   "outputs": [],
   "source": [
    "import pandas as pd\n",
    "data=pd.read_csv(\"Tesla_KPI.csv\")\n",
    "ROE = data[\"ROE\"].values.tolist()\n",
    "NPM = data[\"NPM\"].values.tolist()"
   ]
  },
  {
   "cell_type": "markdown",
   "metadata": {},
   "source": [
    "**calculate performance on the basis of Return Equity ,Net Profit Margin**"
   ]
  },
  {
   "cell_type": "code",
   "execution_count": 13,
   "metadata": {},
   "outputs": [
    {
     "name": "stdout",
     "output_type": "stream",
     "text": [
      "['bad', 'good', 'good', 'bad', 'good', 'bad', 'bad', 'bad', 'good', 'good', 'good', 'bad', 'bad', 'bad']\n"
     ]
    }
   ],
   "source": [
    "performance = []\n",
    "for roe, npm, pos, neg in zip(ROE, NPM, pos_proportions, neg_proportions):\n",
    "    if (roe>0.6 and npm>0.4)or roe>0.8:\n",
    "        performance.append('good')\n",
    "    elif (roe<=0.6 and npm<=0.4)or roe<0.2:\n",
    "        performance.append('bad')\n",
    "    else:\n",
    "        performance.append('Invalid value')  \n",
    "print(performance)"
   ]
  },
  {
   "cell_type": "markdown",
   "metadata": {},
   "source": [
    "**Create dafa frame of features and lables**"
   ]
  },
  {
   "cell_type": "code",
   "execution_count": 15,
   "metadata": {},
   "outputs": [
    {
     "data": {
      "text/html": [
       "<div>\n",
       "<style scoped>\n",
       "    .dataframe tbody tr th:only-of-type {\n",
       "        vertical-align: middle;\n",
       "    }\n",
       "\n",
       "    .dataframe tbody tr th {\n",
       "        vertical-align: top;\n",
       "    }\n",
       "\n",
       "    .dataframe thead th {\n",
       "        text-align: right;\n",
       "    }\n",
       "</style>\n",
       "<table border=\"1\" class=\"dataframe\">\n",
       "  <thead>\n",
       "    <tr style=\"text-align: right;\">\n",
       "      <th></th>\n",
       "      <th>pos_pro</th>\n",
       "      <th>neg_pro</th>\n",
       "      <th>performance</th>\n",
       "    </tr>\n",
       "  </thead>\n",
       "  <tbody>\n",
       "    <tr>\n",
       "      <th>0</th>\n",
       "      <td>0.097143</td>\n",
       "      <td>0.171429</td>\n",
       "      <td>bad</td>\n",
       "    </tr>\n",
       "    <tr>\n",
       "      <th>1</th>\n",
       "      <td>0.123188</td>\n",
       "      <td>0.217391</td>\n",
       "      <td>good</td>\n",
       "    </tr>\n",
       "    <tr>\n",
       "      <th>2</th>\n",
       "      <td>0.141667</td>\n",
       "      <td>0.250000</td>\n",
       "      <td>good</td>\n",
       "    </tr>\n",
       "    <tr>\n",
       "      <th>3</th>\n",
       "      <td>0.158879</td>\n",
       "      <td>0.280374</td>\n",
       "      <td>bad</td>\n",
       "    </tr>\n",
       "    <tr>\n",
       "      <th>4</th>\n",
       "      <td>0.151786</td>\n",
       "      <td>0.267857</td>\n",
       "      <td>good</td>\n",
       "    </tr>\n",
       "    <tr>\n",
       "      <th>5</th>\n",
       "      <td>0.146552</td>\n",
       "      <td>0.258621</td>\n",
       "      <td>bad</td>\n",
       "    </tr>\n",
       "    <tr>\n",
       "      <th>6</th>\n",
       "      <td>0.119718</td>\n",
       "      <td>0.211268</td>\n",
       "      <td>bad</td>\n",
       "    </tr>\n",
       "    <tr>\n",
       "      <th>7</th>\n",
       "      <td>0.158879</td>\n",
       "      <td>0.280374</td>\n",
       "      <td>bad</td>\n",
       "    </tr>\n",
       "    <tr>\n",
       "      <th>8</th>\n",
       "      <td>0.112583</td>\n",
       "      <td>0.198675</td>\n",
       "      <td>good</td>\n",
       "    </tr>\n",
       "    <tr>\n",
       "      <th>9</th>\n",
       "      <td>0.113333</td>\n",
       "      <td>0.200000</td>\n",
       "      <td>good</td>\n",
       "    </tr>\n",
       "    <tr>\n",
       "      <th>10</th>\n",
       "      <td>0.093407</td>\n",
       "      <td>0.164835</td>\n",
       "      <td>good</td>\n",
       "    </tr>\n",
       "    <tr>\n",
       "      <th>11</th>\n",
       "      <td>0.077273</td>\n",
       "      <td>0.136364</td>\n",
       "      <td>bad</td>\n",
       "    </tr>\n",
       "    <tr>\n",
       "      <th>12</th>\n",
       "      <td>0.128788</td>\n",
       "      <td>0.227273</td>\n",
       "      <td>bad</td>\n",
       "    </tr>\n",
       "    <tr>\n",
       "      <th>13</th>\n",
       "      <td>0.128788</td>\n",
       "      <td>0.227273</td>\n",
       "      <td>bad</td>\n",
       "    </tr>\n",
       "  </tbody>\n",
       "</table>\n",
       "</div>"
      ],
      "text/plain": [
       "     pos_pro   neg_pro performance\n",
       "0   0.097143  0.171429         bad\n",
       "1   0.123188  0.217391        good\n",
       "2   0.141667  0.250000        good\n",
       "3   0.158879  0.280374         bad\n",
       "4   0.151786  0.267857        good\n",
       "5   0.146552  0.258621         bad\n",
       "6   0.119718  0.211268         bad\n",
       "7   0.158879  0.280374         bad\n",
       "8   0.112583  0.198675        good\n",
       "9   0.113333  0.200000        good\n",
       "10  0.093407  0.164835        good\n",
       "11  0.077273  0.136364         bad\n",
       "12  0.128788  0.227273         bad\n",
       "13  0.128788  0.227273         bad"
      ]
     },
     "execution_count": 15,
     "metadata": {},
     "output_type": "execute_result"
    }
   ],
   "source": [
    "# import pandas library as pd\n",
    "import pandas as pd\n",
    "  \n",
    "# create an Empty DataFrame object\n",
    "df = pd.DataFrame()\n",
    "  \n",
    "# append columns to an empty DataFrame\n",
    "df['pos_pro'] = pos_proportions\n",
    "df['neg_pro'] = neg_proportions\n",
    "df['performance'] = performance\n",
    "df"
   ]
  },
  {
   "cell_type": "markdown",
   "metadata": {},
   "source": [
    "**Train Test Split**"
   ]
  },
  {
   "cell_type": "code",
   "execution_count": 28,
   "metadata": {},
   "outputs": [
    {
     "name": "stdout",
     "output_type": "stream",
     "text": [
      "X_Train:  (11, 2)\n",
      "X_Test:  (3, 2)\n"
     ]
    }
   ],
   "source": [
    "X=df.iloc[:,:-1]\n",
    "X_train = X.iloc[:11]\n",
    "X_test = X.iloc[11:]\n",
    "\n",
    "Y=df.iloc[:,-1]\n",
    "y_train=Y.iloc[:11]\n",
    "y_test=Y.iloc[11:]\n",
    "\n",
    "print(\"X_Train: \", X_train.shape)\n",
    "print(\"X_Test: \", X_test.shape)"
   ]
  },
  {
   "cell_type": "markdown",
   "metadata": {},
   "source": [
    "**Logistic Regression**"
   ]
  },
  {
   "cell_type": "code",
   "execution_count": 17,
   "metadata": {},
   "outputs": [
    {
     "data": {
      "text/plain": [
       "array(['good', 'good', 'good'], dtype=object)"
      ]
     },
     "execution_count": 17,
     "metadata": {},
     "output_type": "execute_result"
    }
   ],
   "source": [
    "from sklearn.linear_model import LogisticRegression\n",
    "clf = LogisticRegression(random_state=0).fit(X_train,y_train)\n",
    "y_pred=clf.predict(X_test)\n",
    "y_pred"
   ]
  },
  {
   "cell_type": "markdown",
   "metadata": {},
   "source": [
    "**logistic regression for feature importance**"
   ]
  },
  {
   "cell_type": "code",
   "execution_count": 18,
   "metadata": {},
   "outputs": [
    {
     "name": "stdout",
     "output_type": "stream",
     "text": [
      "Feature: 0, Score: -0.03680\n",
      "Feature: 1, Score: -0.06494\n"
     ]
    },
    {
     "data": {
      "image/png": "[encoded data removed]",
      "text/plain": [
       "<Figure size 432x288 with 1 Axes>"
      ]
     },
     "metadata": {
      "needs_background": "light"
     },
     "output_type": "display_data"
    }
   ],
   "source": [
    "from sklearn.datasets import make_classification\n",
    "from sklearn.linear_model import LogisticRegression\n",
    "from matplotlib import pyplot\n",
    "model = LogisticRegression()\n",
    "model.fit(X_train,y_train)\n",
    "importance = model.coef_[0]\n",
    "for i,v in enumerate(importance):\n",
    "    print('Feature: %0d, Score: %.5f' % (i,v))\n",
    "    \n",
    "pyplot.bar([x for x in range(len(importance))], importance)\n",
    "pyplot.show()"
   ]
  },
  {
   "cell_type": "markdown",
   "metadata": {},
   "source": [
    "**Random Forest**"
   ]
  },
  {
   "cell_type": "code",
   "execution_count": 19,
   "metadata": {},
   "outputs": [
    {
     "name": "stdout",
     "output_type": "stream",
     "text": [
      "['good' 'good' 'good']\n"
     ]
    }
   ],
   "source": [
    "from sklearn.ensemble import RandomForestClassifier\n",
    "from sklearn.inspection import permutation_importance\n",
    "clf = RandomForestClassifier(random_state=0)\n",
    "\n",
    "clf.fit(X_train, y_train)\n",
    "y_pred=clf.predict(X_test)\n",
    "print(y_pred)"
   ]
  },
  {
   "cell_type": "markdown",
   "metadata": {},
   "source": [
    "**Random forest for feature importance on a classification problem**"
   ]
  },
  {
   "cell_type": "code",
   "execution_count": 20,
   "metadata": {},
   "outputs": [
    {
     "name": "stdout",
     "output_type": "stream",
     "text": [
      "Feature: 0, Score: 0.50363\n",
      "Feature: 1, Score: 0.49637\n"
     ]
    },
    {
     "data": {
      "image/png": "[encoded data removed]",
      "text/plain": [
       "<Figure size 432x288 with 1 Axes>"
      ]
     },
     "metadata": {
      "needs_background": "light"
     },
     "output_type": "display_data"
    }
   ],
   "source": [
    "from sklearn.datasets import make_classification\n",
    "from sklearn.ensemble import RandomForestClassifier\n",
    "from matplotlib import pyplot\n",
    "model = RandomForestClassifier()\n",
    "model.fit(X_train, y_train)\n",
    "importance = model.feature_importances_\n",
    "for i,v in enumerate(importance):\n",
    "\tprint('Feature: %0d, Score: %.5f' % (i,v))\n",
    "pyplot.bar([x for x in range(len(importance))], importance)\n",
    "pyplot.show()"
   ]
  },
  {
   "cell_type": "code",
   "execution_count": null,
   "metadata": {},
   "outputs": [],
   "source": []
  }
 ],
 "metadata": {
  "colab": {
   "collapsed_sections": [],
   "name": "ProjectSentimentAnalysis_StarterCode.ipynb",
   "provenance": []
  },
  "kernelspec": {
   "display_name": "Python 3",
   "language": "python",
   "name": "python3"
  },
  "language_info": {
   "codemirror_mode": {
    "name": "ipython",
    "version": 3
   },
   "file_extension": ".py",
   "mimetype": "text/x-python",
   "name": "python",
   "nbconvert_exporter": "python",
   "pygments_lexer": "ipython3",
   "version": "3.7.6"
  }
 },
 "nbformat": 4,
 "nbformat_minor": 1
}
