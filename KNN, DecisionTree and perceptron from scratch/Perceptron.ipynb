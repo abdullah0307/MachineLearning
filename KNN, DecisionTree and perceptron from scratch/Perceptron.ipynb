{
 "cells": [
  {
   "cell_type": "markdown",
   "metadata": {},
   "source": [
    "### Applying Binary Classification over perceptron\n",
    "**Loading the dataset**"
   ]
  },
  {
   "cell_type": "code",
   "execution_count": 59,
   "metadata": {},
   "outputs": [],
   "source": [
    "import pandas as pd\n",
    "\n",
    "train = pd.read_csv(\"a4a.txt\",delimiter=\" \",header = None)\n",
    "test = pd.read_csv(\"a4at.txt\",delimiter=\" \",header = None)\n",
    "\n",
    "X_train = train.iloc[:,1:15].values\n",
    "y_train = train.iloc[:,0].values\n",
    "X_test = test.iloc[:,1:15].values\n",
    "y_test = test.iloc[:,0].values"
   ]
  },
  {
   "cell_type": "markdown",
   "metadata": {},
   "source": [
    "**Perceptron class**"
   ]
  },
  {
   "cell_type": "code",
   "execution_count": 60,
   "metadata": {},
   "outputs": [],
   "source": [
    "import numpy as np\n",
    "\n",
    "class Perceptron:\n",
    "    def __init__(self, learning_rate=0.1):\n",
    "        self.learning_rate = learning_rate\n",
    "        self._b = 0.0  # y-intercept\n",
    "        self._w = None  # weights assigned to input features\n",
    "        # count of errors during each iteration\n",
    "        self.misclassified_samples = []\n",
    "\n",
    "    def fit(self, x: np.array, y: np.array, n_iter=10):\n",
    "        self._b = 0.0\n",
    "        self._w = np.zeros(x.shape[1])\n",
    "        self.misclassified_samples = []\n",
    "\n",
    "        for _ in range(n_iter):\n",
    "            # counter of the errors during this training iteration\n",
    "            errors = 0\n",
    "            for xi, yi in zip(x, y):\n",
    "                # for each sample compute the update value\n",
    "                update = self.learning_rate * (yi - self.predict(xi))\n",
    "                # and apply it to the y-intercept and weights array\n",
    "                self._b += update\n",
    "                self._w += update * xi\n",
    "                errors += int(update != 0.0)\n",
    "\n",
    "            self.misclassified_samples.append(errors)\n",
    "\n",
    "    def f(self, x: np.array) -> float:\n",
    "        return np.dot(x, self._w) + self._b\n",
    "\n",
    "    def predict(self, x: np.array):\n",
    "        return np.where(self.f(x) >= 0, 1, -1)"
   ]
  },
  {
   "cell_type": "markdown",
   "metadata": {},
   "source": [
    "**Function to calculate accuracy and loss**"
   ]
  },
  {
   "cell_type": "code",
   "execution_count": 61,
   "metadata": {},
   "outputs": [],
   "source": [
    "def calculate_accuracy(y_true,y_pred):\n",
    "    hit = 0\n",
    "    miss = 0\n",
    "    for n,i in enumerate(y_true):\n",
    "        if i == y_pred[n]:\n",
    "            hit += 1\n",
    "        else:\n",
    "            miss += 1\n",
    "    score = hit/len(y_true)\n",
    "    loss = miss/len(y_true)\n",
    "    return score , loss"
   ]
  },
  {
   "cell_type": "markdown",
   "metadata": {},
   "source": [
    "**Training the Perceptron**"
   ]
  },
  {
   "cell_type": "code",
   "execution_count": 62,
   "metadata": {},
   "outputs": [],
   "source": [
    "classifier = Perceptron(learning_rate=0.01)\n",
    "classifier.fit(X_train, y_train)"
   ]
  },
  {
   "cell_type": "markdown",
   "metadata": {},
   "source": [
    "**Make the Prediction** "
   ]
  },
  {
   "cell_type": "code",
   "execution_count": 63,
   "metadata": {},
   "outputs": [],
   "source": [
    "y_pred = classifier.predict(X_test)"
   ]
  },
  {
   "cell_type": "markdown",
   "metadata": {},
   "source": [
    "**Calculating the accuracy**"
   ]
  },
  {
   "cell_type": "code",
   "execution_count": 64,
   "metadata": {},
   "outputs": [
    {
     "name": "stdout",
     "output_type": "stream",
     "text": [
      "Accuracy:  0.76\n",
      "Loss:  0.24\n"
     ]
    }
   ],
   "source": [
    "acc,loss = calculate_accuracy(y_test,y_pred)\n",
    "print(\"Accuracy: \",round(acc,2))\n",
    "print(\"Loss: \", round(loss,2))"
   ]
  },
  {
   "cell_type": "code",
   "execution_count": 66,
   "metadata": {},
   "outputs": [
    {
     "name": "stderr",
     "output_type": "stream",
     "text": [
      "c:\\users\\user\\appdata\\local\\programs\\python\\python36\\lib\\site-packages\\seaborn\\_decorators.py:43: FutureWarning: Pass the following variables as keyword args: x, y. From version 0.12, the only valid positional argument will be `data`, and passing other arguments without an explicit keyword will result in an error or misinterpretation.\n",
      "  FutureWarning\n"
     ]
    },
    {
     "data": {
      "text/plain": [
       "<AxesSubplot:>"
      ]
     },
     "execution_count": 66,
     "metadata": {},
     "output_type": "execute_result"
    },
    {
     "data": {
      "image/png": "[encoded data removed]",
      "text/plain": [
       "<Figure size 432x288 with 1 Axes>"
      ]
     },
     "metadata": {
      "needs_background": "light"
     },
     "output_type": "display_data"
    }
   ],
   "source": [
    "import seaborn as sns\n",
    "sns.barplot([\"Accuracy\",\"Loss\"],[acc,loss])"
   ]
  },
  {
   "cell_type": "markdown",
   "metadata": {},
   "source": [
    "### Multi-Classification using Perceptron"
   ]
  },
  {
   "cell_type": "markdown",
   "metadata": {},
   "source": [
    "**Class for Multi-Perceptron**"
   ]
  },
  {
   "cell_type": "code",
   "execution_count": 43,
   "metadata": {},
   "outputs": [],
   "source": [
    "class Multi_Perceptron:\n",
    "    def __init__(self):\n",
    "        self.m = [] \n",
    "    \n",
    "    def unique(self,list1):\n",
    "        unique_list = []\n",
    "        for x in list1:\n",
    "            if x not in unique_list:\n",
    "                unique_list.append(x)\n",
    "        return unique_list\n",
    "    \n",
    "    def fit(self,X_train,y_train):\n",
    "        classes = self.unique(y_train)\n",
    "        for c in classes:\n",
    "            m = Perceptron(learning_rate=0.01)\n",
    "            y = np.where(y_train == c,1,-1)\n",
    "            m.fit(X_train,y_train)\n",
    "            self.m.append(m)\n",
    "            \n",
    "    def predict(self,y_test):\n",
    "        classes = self.unique(y_train)\n",
    "        predictions = []\n",
    "        for m in self.m:\n",
    "            p = m.predict(y_test)   "
   ]
  },
  {
   "cell_type": "markdown",
   "metadata": {},
   "source": [
    "**Function to randomly shuffle the dataset**"
   ]
  },
  {
   "cell_type": "code",
   "execution_count": 44,
   "metadata": {},
   "outputs": [],
   "source": [
    "def shuffle_split_data(X, y, split = 0.7):\n",
    "    split = np.random.rand(X.shape[0]) < split\n",
    "\n",
    "    X_train = X[split]\n",
    "    y_train = y[split]\n",
    "    X_test =  X[~split]\n",
    "    y_test = y[~split]\n",
    "    \n",
    "    return X_train,y_train,X_test,y_test"
   ]
  },
  {
   "cell_type": "markdown",
   "metadata": {},
   "source": [
    "**Loading the multi classification dataset**"
   ]
  },
  {
   "cell_type": "code",
   "execution_count": 56,
   "metadata": {},
   "outputs": [],
   "source": [
    "import pandas as pd\n",
    "\n",
    "df = pd.read_csv(\"iris.txt\",delimiter=\" \",header = None)\n",
    "\n",
    "X = df.iloc[:,1:5].values \n",
    "y = df.iloc[:,0].values\n",
    "\n",
    "X_train,y_train,X_test,y_test = shuffle_split_data(X, y)"
   ]
  },
  {
   "cell_type": "markdown",
   "metadata": {},
   "source": [
    "**Training that dataset**"
   ]
  },
  {
   "cell_type": "code",
   "execution_count": 46,
   "metadata": {},
   "outputs": [],
   "source": [
    "multiclassifier = Multi_Perceptron()\n",
    "multiclassifier.fit(X_train, y_train)"
   ]
  },
  {
   "cell_type": "markdown",
   "metadata": {},
   "source": [
    "**Getting results by predicting it over test data**"
   ]
  },
  {
   "cell_type": "code",
   "execution_count": null,
   "metadata": {},
   "outputs": [],
   "source": [
    "multiclassifier.predict(X_test)"
   ]
  },
  {
   "cell_type": "markdown",
   "metadata": {},
   "source": [
    "**Calculating accuracy and loss**"
   ]
  },
  {
   "cell_type": "code",
   "execution_count": null,
   "metadata": {},
   "outputs": [],
   "source": [
    "acc,loss = calculate_accuracy(y_test,y_pred)\n",
    "print(\"Accuracy: \",round(acc,2))\n",
    "print(\"Loss: \", round(loss,2))"
   ]
  }
 ],
 "metadata": {
  "kernelspec": {
   "display_name": "Python 3",
   "language": "python",
   "name": "python3"
  },
  "language_info": {
   "codemirror_mode": {
    "name": "ipython",
    "version": 3
   },
   "file_extension": ".py",
   "mimetype": "text/x-python",
   "name": "python",
   "nbconvert_exporter": "python",
   "pygments_lexer": "ipython3",
   "version": "3.6.6"
  }
 },
 "nbformat": 4,
 "nbformat_minor": 4
}
